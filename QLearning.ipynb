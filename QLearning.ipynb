{
  "nbformat": 4,
  "nbformat_minor": 0,
  "metadata": {
    "colab": {
      "name": "QLearning.ipynb",
      "provenance": []
    },
    "kernelspec": {
      "name": "python3",
      "display_name": "Python 3"
    },
    "language_info": {
      "name": "python"
    }
  },
  "cells": [
    {
      "cell_type": "code",
      "execution_count": null,
      "metadata": {
        "id": "mqlM898hJfDj"
      },
      "outputs": [],
      "source": [
        "import gym\n",
        "import numpy as np\n",
        "from gym import spaces\n",
        "import random \n",
        "import tqdm as tq\n",
        "\n",
        "N_DISCRETE_ACTIONS = 2 # 0 reject 1 hire\n",
        "\n",
        "class Secretary(gym.Env):\n",
        "  metadata = {'render.modes' : ['human']}\n",
        "  \n",
        "  def __init__(self,N):\n",
        "    super(Secretary,self).__init__()\n",
        "    self.action_space = spaces.Discrete(N_DISCRETE_ACTIONS)\n",
        "    self.observation_space = spaces.Box(low=0, high=1, shape=(3,), dtype=np.float32)\n",
        "    self.N = N\n",
        "    self.time = 0\n",
        "    self.state = None\n",
        "  \n",
        "  def step(self,action):\n",
        "    self.time+=1\n",
        "    if(action == 1 or self.time == self.N):\n",
        "      reward = self.state[2]\n",
        "      done = True\n",
        "      next_state = np.array([self.time/self.N,max(self.state[2],self.state[1]),-1],dtype = np.float32)\n",
        "      if(action == 1):\n",
        "        info = {'msg': 'the decision is made!'}\n",
        "      else:\n",
        "        info = {'msg': 'we reached to the last candidate!'}\n",
        "      self.state = next_state\n",
        "      return next_state, reward, done, info\n",
        "    \n",
        "    elif(action == 0):\n",
        "      reward = 0\n",
        "      done = False\n",
        "      info = {'msg': 'next candidate!'}\n",
        "      next_cand_score = random.random()\n",
        "      next_state = np.array([self.time/self.N,max(self.state[2],self.state[1]),next_cand_score],dtype = np.float32)\n",
        "      self.state = next_state\n",
        "      return next_state,reward,done,info\n",
        "    \n",
        "  def reset(self):\n",
        "    self.time = 0\n",
        "    next_cand_score = random.random()\n",
        "    self.state = np.array([0,0,next_cand_score],dtype = np.float32)\n",
        "    return self.state\n",
        "  \n",
        "  def render(self, mode='human'):\n",
        "        if mode == 'text':\n",
        "            print(self.state)"
      ]
    },
    {
      "cell_type": "code",
      "source": [
        "import numpy as np\n",
        "import math\n",
        "import matplotlib.pyplot as plt\n",
        "N=20\n",
        "def get_indices(state):\n",
        "    return int(state[0]*20),int(state[1]*20),int(state[2]*20)\n",
        "\n",
        "def get_next_action(fraction_interviewed,max_score,cur_score,epsilon,q):\n",
        "  if(np.random.random()<epsilon):\n",
        "    action=np.random.choice([0,1])\n",
        "  else:\n",
        "    action=np.argmax(q[fraction_interviewed,max_score,cur_score])\n",
        "  \n",
        "  return action\n",
        "\n",
        "#q=np.random.uniform(low = -1,high = 1,size=(N+1,N+1,N+1,2))\n",
        "#q=np.zeros((N+1,N+1,N+1,2))\n",
        "# q=-np.ones((101,101,101,2))\n",
        "def Discrete(state):\n",
        "    state[0] = math.floor(state[0] / 0.05) * 0.05\n",
        "    state[1] = math.floor(state[1] / 0.05) * 0.05\n",
        "    state[2] = math.floor(state[2] / 0.05) * 0.05\n",
        "    return state\n",
        "\n",
        "\n",
        "def train(epsilon,discount_factor,lr,episodes,epsilon_decay_value):\n",
        "    envi=Secretary(N)\n",
        "    r = []\n",
        "    r_100 = []\n",
        "    reward_sum = 0\n",
        "    epsilon_vals=[]\n",
        "    q=np.random.uniform(low = -1,high = 1,size=(N+1,N+1,N+1,2))\n",
        "    for ep in tq.tqdm(range(episodes)):\n",
        "        envi.reset()\n",
        "        cur_state = envi.state\n",
        "        cur_state=Discrete(cur_state)\n",
        "        while(True):\n",
        "            cur_ind1,cur_ind2,cur_ind3=get_indices(cur_state)\n",
        "            action=get_next_action(cur_ind1,cur_ind2,cur_ind3,epsilon,q)\n",
        "            next_state, reward, done, info=envi.step(action)\n",
        "            if(ep%SHOW_EVERY == 0):\n",
        "              print(ep)\n",
        "              print(reward,info)\n",
        "            next_state=Discrete(next_state)\n",
        "            next_ind1,next_ind2,next_ind3=get_indices(next_state)\n",
        "                      \n",
        "            old_q=q[cur_ind1,cur_ind2,cur_ind3,action]\n",
        "            if not done:\n",
        "              td=reward+discount_factor*np.max(q[next_ind1,next_ind2,next_ind3])-old_q\n",
        "            else:\n",
        "              td=reward-old_q\n",
        "            if(ep%SHOW_EVERY == 0):\n",
        "              print(td)\n",
        "            new_q=old_q+td*lr\n",
        "            q[cur_ind1,cur_ind2,cur_ind3,action]=new_q\n",
        "            if(done):\n",
        "                r.append(reward)\n",
        "                if(ep>100):\n",
        "                  r_100.append(np.mean(r[-100:]))\n",
        "                break\n",
        "            cur_state=next_state\n",
        "\n",
        "        epsilon_vals.append(epsilon)   \n",
        "        if(episodes//2 >= ep >= 1):\n",
        "            epsilon -= epsilon_decay_value\n",
        "\n",
        "        \n",
        "    # plt.plot(np.arange(100,episodes),r_10)\n",
        "    # plt.show()\n",
        "    return envi,r,epsilon_vals,r_100,q\n",
        "\n",
        "q_tables=[]\n",
        "epsilon_vals_arr=[]\n",
        "r_100_arr=[]\n",
        "r_arr=[]\n",
        "epsilon = 0.9\n",
        "discount_factor = 0.99\n",
        "lr = 0.5\n",
        "episodes = 20_000_00 #state = 20*20*20 ~ 8000\n",
        "epsilon_decay_value = epsilon/(episodes//2 - 1)\n",
        "# epsilon_decay_value  = 0\n",
        "SHOW_EVERY = 1_000_00\n",
        "envi,r,epsilon_vals,r_100,q = train(epsilon,discount_factor,lr,episodes,epsilon_decay_value)\n",
        "q_tables.append(q)\n",
        "epsilon_vals_arr.append(epsilon_vals)\n",
        "r_arr.append(r)\n",
        "r_100_arr.append(r_100)\n",
        "\n",
        "epsilon = 0.7\n",
        "discount_factor = 0.99\n",
        "envi,r,epsilon_vals,r_100,q = train(epsilon,discount_factor,lr,episodes,epsilon_decay_value)\n",
        "q_tables.append(q)\n",
        "epsilon_vals_arr.append(epsilon_vals)\n",
        "r_arr.append(r)\n",
        "r_100_arr.append(r_100)\n",
        "\n",
        "epsilon = 0.7\n",
        "discount_factor = 0.9\n",
        "envi,r,epsilon_vals,r_100,q = train(epsilon,discount_factor,lr,episodes,epsilon_decay_value)\n",
        "q_tables.append(q)\n",
        "epsilon_vals_arr.append(epsilon_vals)\n",
        "r_arr.append(r)\n",
        "r_100_arr.append(r_100)\n",
        "\n",
        "epsilon = 0.9\n",
        "discount_factor = 0.9\n",
        "envi,r,epsilon_vals,r_100,q = train(epsilon,discount_factor,lr,episodes,epsilon_decay_value)\n",
        "q_tables.append(q)\n",
        "epsilon_vals_arr.append(epsilon_vals)\n",
        "r_arr.append(r)\n",
        "r_100_arr.append(r_100)      "
      ],
      "metadata": {
        "colab": {
          "base_uri": "https://localhost:8080/"
        },
        "id": "iqqZb9JOJsuD",
        "outputId": "0cfad4bb-ad88-45a9-e9d7-4972c72491b1"
      },
      "execution_count": null,
      "outputs": [
        {
          "output_type": "stream",
          "name": "stderr",
          "text": [
            "  0%|          | 1264/2000000 [00:00<08:19, 4004.48it/s]"
          ]
        },
        {
          "output_type": "stream",
          "name": "stdout",
          "text": [
            "0\n",
            "0 {'msg': 'next candidate!'}\n",
            "0.8045463558747625\n",
            "0\n",
            "0.95 {'msg': 'the decision is made!'}\n",
            "0.09823318100723033\n"
          ]
        },
        {
          "output_type": "stream",
          "name": "stderr",
          "text": [
            "  5%|▌         | 100998/2000000 [00:30<08:58, 3525.74it/s]"
          ]
        },
        {
          "output_type": "stream",
          "name": "stdout",
          "text": [
            "100000\n",
            "0.9 {'msg': 'the decision is made!'}\n",
            "0.005525398960523176\n"
          ]
        },
        {
          "output_type": "stream",
          "name": "stderr",
          "text": [
            " 10%|█         | 200972/2000000 [00:55<08:57, 3344.21it/s]"
          ]
        },
        {
          "output_type": "stream",
          "name": "stdout",
          "text": [
            "200000\n",
            "0.85 {'msg': 'the decision is made!'}\n",
            "-0.03560199872256398\n"
          ]
        },
        {
          "output_type": "stream",
          "name": "stderr",
          "text": [
            " 15%|█▌        | 300941/2000000 [01:22<08:43, 3242.86it/s]"
          ]
        },
        {
          "output_type": "stream",
          "name": "stdout",
          "text": [
            "300000\n",
            "0.85 {'msg': 'the decision is made!'}\n",
            "-0.03550797020662455\n"
          ]
        },
        {
          "output_type": "stream",
          "name": "stderr",
          "text": [
            " 20%|██        | 400724/2000000 [01:51<06:45, 3943.86it/s]"
          ]
        },
        {
          "output_type": "stream",
          "name": "stdout",
          "text": [
            "400000\n",
            "0 {'msg': 'next candidate!'}\n",
            "0.05899687956409094\n",
            "400000\n",
            "0 {'msg': 'next candidate!'}\n",
            "-0.06560654757153339\n",
            "400000\n",
            "0.35 {'msg': 'the decision is made!'}\n",
            "0.035657831766680914\n"
          ]
        },
        {
          "output_type": "stream",
          "name": "stderr",
          "text": [
            " 25%|██▌       | 500764/2000000 [02:22<08:15, 3025.43it/s]"
          ]
        },
        {
          "output_type": "stream",
          "name": "stdout",
          "text": [
            "500000\n",
            "0.6 {'msg': 'the decision is made!'}\n",
            "-0.016908640290742127\n"
          ]
        },
        {
          "output_type": "stream",
          "name": "stderr",
          "text": [
            " 30%|███       | 600643/2000000 [02:52<07:23, 3158.35it/s]"
          ]
        },
        {
          "output_type": "stream",
          "name": "stdout",
          "text": [
            "600000\n",
            "0 {'msg': 'next candidate!'}\n",
            "-0.04907053044345144\n",
            "600000\n",
            "0 {'msg': 'next candidate!'}\n",
            "-0.020715713616849984\n",
            "600000\n",
            "0.65 {'msg': 'the decision is made!'}\n",
            "0.03750367756424333\n"
          ]
        },
        {
          "output_type": "stream",
          "name": "stderr",
          "text": [
            " 35%|███▌      | 700859/2000000 [03:26<08:31, 2541.48it/s]"
          ]
        },
        {
          "output_type": "stream",
          "name": "stdout",
          "text": [
            "700000\n",
            "0 {'msg': 'next candidate!'}\n",
            "-0.11243933276226192\n",
            "700000\n",
            "0 {'msg': 'next candidate!'}\n",
            "0.01238385823031507\n",
            "700000\n",
            "0 {'msg': 'next candidate!'}\n",
            "-0.08812249981529241\n",
            "700000\n",
            "0 {'msg': 'next candidate!'}\n",
            "0.06887592544806975\n",
            "700000\n",
            "0 {'msg': 'next candidate!'}\n",
            "-0.013814179245673186\n",
            "700000\n",
            "0 {'msg': 'next candidate!'}\n",
            "0.016567547829464124\n",
            "700000\n",
            "0 {'msg': 'next candidate!'}\n",
            "0.019771477432192763\n",
            "700000\n",
            "0 {'msg': 'next candidate!'}\n",
            "-0.03322680435296066\n",
            "700000\n",
            "0 {'msg': 'next candidate!'}\n",
            "-0.07077077745095073\n",
            "700000\n",
            "0.75 {'msg': 'the decision is made!'}\n",
            "0.0\n"
          ]
        },
        {
          "output_type": "stream",
          "name": "stderr",
          "text": [
            " 40%|████      | 800474/2000000 [04:00<06:38, 3013.70it/s]"
          ]
        },
        {
          "output_type": "stream",
          "name": "stdout",
          "text": [
            "800000\n",
            "0 {'msg': 'next candidate!'}\n",
            "-0.007015227539946101\n",
            "800000\n",
            "0.8 {'msg': 'the decision is made!'}\n",
            "0.0\n"
          ]
        },
        {
          "output_type": "stream",
          "name": "stderr",
          "text": [
            " 45%|████▌     | 900405/2000000 [04:37<07:29, 2446.72it/s]"
          ]
        },
        {
          "output_type": "stream",
          "name": "stdout",
          "text": [
            "900000\n",
            "0 {'msg': 'next candidate!'}\n",
            "-0.01620910486737903\n",
            "900000\n",
            "0 {'msg': 'next candidate!'}\n",
            "0.14827469400595517\n",
            "900000\n",
            "0.95 {'msg': 'the decision is made!'}\n",
            "0.0\n"
          ]
        },
        {
          "output_type": "stream",
          "name": "stderr",
          "text": [
            " 50%|█████     | 1000583/2000000 [05:14<07:14, 2302.59it/s]"
          ]
        },
        {
          "output_type": "stream",
          "name": "stdout",
          "text": [
            "1000000\n",
            "0 {'msg': 'next candidate!'}\n",
            "0.022595987660510408\n",
            "1000000\n",
            "0 {'msg': 'next candidate!'}\n",
            "-0.03828868827872978\n",
            "1000000\n",
            "0 {'msg': 'next candidate!'}\n",
            "-0.043958509470320206\n",
            "1000000\n",
            "0 {'msg': 'next candidate!'}\n",
            "-0.08109987761673765\n",
            "1000000\n",
            "0 {'msg': 'next candidate!'}\n",
            "0.03535419758388736\n",
            "1000000\n",
            "0 {'msg': 'next candidate!'}\n",
            "0.09812182934155711\n",
            "1000000\n",
            "0 {'msg': 'next candidate!'}\n",
            "-0.008331961847381608\n",
            "1000000\n",
            "0 {'msg': 'next candidate!'}\n",
            "0.03801494466340216\n",
            "1000000\n",
            "0.9 {'msg': 'the decision is made!'}\n",
            "0.024196795877469368\n"
          ]
        },
        {
          "output_type": "stream",
          "name": "stderr",
          "text": [
            " 55%|█████▌    | 1100674/2000000 [05:49<05:54, 2540.44it/s]"
          ]
        },
        {
          "output_type": "stream",
          "name": "stdout",
          "text": [
            "1100000\n",
            "0 {'msg': 'next candidate!'}\n",
            "-0.06897220362855028\n",
            "1100000\n",
            "0 {'msg': 'next candidate!'}\n",
            "0.018978126120761107\n",
            "1100000\n",
            "0 {'msg': 'next candidate!'}\n",
            "-0.02439391227783949\n",
            "1100000\n",
            "0 {'msg': 'next candidate!'}\n",
            "0.012216760069276744\n",
            "1100000\n",
            "0 {'msg': 'next candidate!'}\n",
            "0.07194228223624277\n",
            "1100000\n",
            "0.9 {'msg': 'the decision is made!'}\n",
            "0.03386065980486419\n"
          ]
        },
        {
          "output_type": "stream",
          "name": "stderr",
          "text": [
            " 60%|██████    | 1200394/2000000 [06:24<03:15, 4085.41it/s]"
          ]
        },
        {
          "output_type": "stream",
          "name": "stdout",
          "text": [
            "1200000\n",
            "0.95 {'msg': 'the decision is made!'}\n",
            "0.0\n"
          ]
        },
        {
          "output_type": "stream",
          "name": "stderr",
          "text": [
            " 65%|██████▌   | 1300782/2000000 [06:58<04:34, 2544.99it/s]"
          ]
        },
        {
          "output_type": "stream",
          "name": "stdout",
          "text": [
            "1300000\n",
            "0 {'msg': 'next candidate!'}\n",
            "-0.07302565956597695\n",
            "1300000\n",
            "0 {'msg': 'next candidate!'}\n",
            "-0.06708174896514674\n",
            "1300000\n",
            "0.75 {'msg': 'the decision is made!'}\n",
            "0.0\n"
          ]
        },
        {
          "output_type": "stream",
          "name": "stderr",
          "text": [
            " 70%|███████   | 1400675/2000000 [07:33<03:59, 2499.06it/s]"
          ]
        },
        {
          "output_type": "stream",
          "name": "stdout",
          "text": [
            "1400000\n",
            "0 {'msg': 'next candidate!'}\n",
            "-0.003296095776808672\n",
            "1400000\n",
            "0 {'msg': 'next candidate!'}\n",
            "-0.03728499336163238\n",
            "1400000\n",
            "0 {'msg': 'next candidate!'}\n",
            "0.09043146529589685\n",
            "1400000\n",
            "0.85 {'msg': 'the decision is made!'}\n",
            "-0.04772705293017909\n"
          ]
        },
        {
          "output_type": "stream",
          "name": "stderr",
          "text": [
            " 75%|███████▌  | 1500671/2000000 [08:07<03:17, 2525.86it/s]"
          ]
        },
        {
          "output_type": "stream",
          "name": "stdout",
          "text": [
            "1500000\n",
            "0 {'msg': 'next candidate!'}\n",
            "-0.025755065392863097\n",
            "1500000\n",
            "0 {'msg': 'next candidate!'}\n",
            "-0.0193600692683783\n",
            "1500000\n",
            "0.75 {'msg': 'the decision is made!'}\n",
            "0.0\n"
          ]
        },
        {
          "output_type": "stream",
          "name": "stderr",
          "text": [
            " 80%|████████  | 1600638/2000000 [08:39<01:54, 3477.76it/s]"
          ]
        },
        {
          "output_type": "stream",
          "name": "stdout",
          "text": [
            "1600000\n",
            "0.75 {'msg': 'the decision is made!'}\n",
            "0.0\n"
          ]
        },
        {
          "output_type": "stream",
          "name": "stderr",
          "text": [
            " 85%|████████▌ | 1700612/2000000 [09:13<01:48, 2762.82it/s]"
          ]
        },
        {
          "output_type": "stream",
          "name": "stdout",
          "text": [
            "1700000\n",
            "0 {'msg': 'next candidate!'}\n",
            "0.06341464639674887\n",
            "1700000\n",
            "0 {'msg': 'next candidate!'}\n",
            "-0.060656720363022165\n",
            "1700000\n",
            "0 {'msg': 'next candidate!'}\n",
            "0.06205007861260514\n",
            "1700000\n",
            "0 {'msg': 'next candidate!'}\n",
            "-0.0357526879020269\n",
            "1700000\n",
            "0 {'msg': 'next candidate!'}\n",
            "-0.08041035899906801\n",
            "1700000\n",
            "0 {'msg': 'next candidate!'}\n",
            "0.06772912855713031\n",
            "1700000\n",
            "0 {'msg': 'next candidate!'}\n",
            "-0.06376769585107722\n",
            "1700000\n",
            "0 {'msg': 'next candidate!'}\n",
            "-0.040142729859048876\n",
            "1700000\n",
            "0 {'msg': 'next candidate!'}\n",
            "0.03168110507451238\n",
            "1700000\n",
            "0 {'msg': 'next candidate!'}\n",
            "-0.15729324270206324\n",
            "1700000\n",
            "0 {'msg': 'next candidate!'}\n",
            "-0.033384205602065786\n",
            "1700000\n",
            "0 {'msg': 'next candidate!'}\n",
            "0.06030842566968697\n",
            "1700000\n",
            "0 {'msg': 'next candidate!'}\n",
            "0.030144203155967886\n",
            "1700000\n",
            "0.7 {'msg': 'the decision is made!'}\n",
            "0.0\n"
          ]
        },
        {
          "output_type": "stream",
          "name": "stderr",
          "text": [
            " 90%|█████████ | 1800761/2000000 [09:47<01:09, 2866.29it/s]"
          ]
        },
        {
          "output_type": "stream",
          "name": "stdout",
          "text": [
            "1800000\n",
            "0.9 {'msg': 'the decision is made!'}\n",
            "0.04811840407148826\n"
          ]
        },
        {
          "output_type": "stream",
          "name": "stderr",
          "text": [
            " 95%|█████████▌| 1900791/2000000 [10:20<00:37, 2626.36it/s]"
          ]
        },
        {
          "output_type": "stream",
          "name": "stdout",
          "text": [
            "1900000\n",
            "0.8 {'msg': 'the decision is made!'}\n",
            "0.0\n"
          ]
        },
        {
          "output_type": "stream",
          "name": "stderr",
          "text": [
            "100%|██████████| 2000000/2000000 [10:55<00:00, 3050.62it/s]\n",
            "  0%|          | 1245/2000000 [00:00<08:06, 4107.42it/s]"
          ]
        },
        {
          "output_type": "stream",
          "name": "stdout",
          "text": [
            "0\n",
            "0 {'msg': 'next candidate!'}\n",
            "0.5341854931884247\n",
            "0\n",
            "0.35 {'msg': 'the decision is made!'}\n",
            "-0.027140703662599908\n"
          ]
        },
        {
          "output_type": "stream",
          "name": "stderr",
          "text": [
            "  5%|▌         | 100875/2000000 [00:26<07:50, 4038.87it/s]"
          ]
        },
        {
          "output_type": "stream",
          "name": "stdout",
          "text": [
            "100000\n",
            "0.25 {'msg': 'the decision is made!'}\n",
            "0.0\n"
          ]
        },
        {
          "output_type": "stream",
          "name": "stderr",
          "text": [
            " 10%|█         | 200595/2000000 [00:53<07:18, 4103.92it/s]"
          ]
        },
        {
          "output_type": "stream",
          "name": "stdout",
          "text": [
            "200000\n",
            "0 {'msg': 'next candidate!'}\n",
            "0.08723237012719909\n",
            "200000\n",
            "0.85 {'msg': 'the decision is made!'}\n",
            "-0.037610072352435076\n"
          ]
        },
        {
          "output_type": "stream",
          "name": "stderr",
          "text": [
            " 15%|█▌        | 300712/2000000 [01:24<09:26, 2997.58it/s]"
          ]
        },
        {
          "output_type": "stream",
          "name": "stdout",
          "text": [
            "300000\n",
            "0 {'msg': 'next candidate!'}\n",
            "0.08000763801721777\n",
            "300000\n",
            "0 {'msg': 'next candidate!'}\n",
            "-0.017502020403013185\n",
            "300000\n",
            "0 {'msg': 'next candidate!'}\n",
            "-0.0012271236361188764\n",
            "300000\n",
            "0 {'msg': 'next candidate!'}\n",
            "-0.042819418712561674\n",
            "300000\n",
            "0 {'msg': 'next candidate!'}\n",
            "-0.026252312215902074\n",
            "300000\n",
            "0.35 {'msg': 'the decision is made!'}\n",
            "0.0412952006309954\n"
          ]
        },
        {
          "output_type": "stream",
          "name": "stderr",
          "text": [
            " 20%|██        | 400787/2000000 [01:56<08:13, 3242.63it/s]"
          ]
        },
        {
          "output_type": "stream",
          "name": "stdout",
          "text": [
            "400000\n",
            "0 {'msg': 'next candidate!'}\n",
            "0.01726074719309123\n",
            "400000\n",
            "0 {'msg': 'next candidate!'}\n",
            "0.1355191853818376\n",
            "400000\n",
            "0.95 {'msg': 'the decision is made!'}\n",
            "0.0\n"
          ]
        },
        {
          "output_type": "stream",
          "name": "stderr",
          "text": [
            " 25%|██▌       | 500763/2000000 [02:29<08:15, 3023.69it/s]"
          ]
        },
        {
          "output_type": "stream",
          "name": "stdout",
          "text": [
            "500000\n",
            "0 {'msg': 'next candidate!'}\n",
            "-0.030057567526584283\n",
            "500000\n",
            "0 {'msg': 'next candidate!'}\n",
            "0.04935799008357722\n",
            "500000\n",
            "0 {'msg': 'next candidate!'}\n",
            "-0.02602561460955799\n",
            "500000\n",
            "0 {'msg': 'next candidate!'}\n",
            "0.07164548192096754\n",
            "500000\n",
            "0.85 {'msg': 'the decision is made!'}\n",
            "-0.04629795103482104\n"
          ]
        },
        {
          "output_type": "stream",
          "name": "stderr",
          "text": [
            " 30%|███       | 600749/2000000 [03:03<08:06, 2876.60it/s]"
          ]
        },
        {
          "output_type": "stream",
          "name": "stdout",
          "text": [
            "600000\n",
            "0 {'msg': 'next candidate!'}\n",
            "0.007015203343689214\n",
            "600000\n",
            "0 {'msg': 'next candidate!'}\n",
            "-0.034080124848489435\n",
            "600000\n",
            "0 {'msg': 'next candidate!'}\n",
            "0.07771729868860444\n",
            "600000\n",
            "0 {'msg': 'next candidate!'}\n",
            "-0.1263143627821357\n",
            "600000\n",
            "0 {'msg': 'next candidate!'}\n",
            "-0.014018691571955899\n",
            "600000\n",
            "0 {'msg': 'next candidate!'}\n",
            "0.0019454252612531864\n",
            "600000\n",
            "0 {'msg': 'next candidate!'}\n",
            "-0.041035446750935956\n",
            "600000\n",
            "0 {'msg': 'next candidate!'}\n",
            "0.039069384932859164\n",
            "600000\n",
            "0 {'msg': 'next candidate!'}\n",
            "-0.08474177069097377\n",
            "600000\n",
            "0.6 {'msg': 'the decision is made!'}\n",
            "-0.018192660274095496\n"
          ]
        },
        {
          "output_type": "stream",
          "name": "stderr",
          "text": [
            " 35%|███▌      | 700684/2000000 [03:37<08:12, 2640.00it/s]"
          ]
        },
        {
          "output_type": "stream",
          "name": "stdout",
          "text": [
            "700000\n",
            "0 {'msg': 'next candidate!'}\n",
            "-0.09747001080796436\n",
            "700000\n",
            "0 {'msg': 'next candidate!'}\n",
            "-0.01210482296631965\n",
            "700000\n",
            "0 {'msg': 'next candidate!'}\n",
            "0.008734435056402035\n",
            "700000\n",
            "0 {'msg': 'next candidate!'}\n",
            "0.011104179414253235\n",
            "700000\n",
            "0 {'msg': 'next candidate!'}\n",
            "-0.013295164760923406\n",
            "700000\n",
            "0.8 {'msg': 'the decision is made!'}\n",
            "0.0\n"
          ]
        },
        {
          "output_type": "stream",
          "name": "stderr",
          "text": [
            " 40%|████      | 800508/2000000 [04:12<08:09, 2450.66it/s]"
          ]
        },
        {
          "output_type": "stream",
          "name": "stdout",
          "text": [
            "800000\n",
            "0 {'msg': 'next candidate!'}\n",
            "-0.015836688497304685\n",
            "800000\n",
            "0 {'msg': 'next candidate!'}\n",
            "0.08606295073390391\n",
            "800000\n",
            "0.9 {'msg': 'the decision is made!'}\n",
            "0.024416590052227516\n"
          ]
        },
        {
          "output_type": "stream",
          "name": "stderr",
          "text": [
            " 45%|████▌     | 900356/2000000 [04:45<06:08, 2981.82it/s]"
          ]
        },
        {
          "output_type": "stream",
          "name": "stdout",
          "text": [
            "900000\n",
            "0.95 {'msg': 'the decision is made!'}\n",
            "0.0\n"
          ]
        },
        {
          "output_type": "stream",
          "name": "stderr",
          "text": [
            " 50%|█████     | 1000734/2000000 [05:19<06:35, 2526.42it/s]"
          ]
        },
        {
          "output_type": "stream",
          "name": "stdout",
          "text": [
            "1000000\n",
            "0 {'msg': 'next candidate!'}\n",
            "0.025490258387273146\n",
            "1000000\n",
            "0 {'msg': 'next candidate!'}\n",
            "-0.05227135505348701\n",
            "1000000\n",
            "0 {'msg': 'next candidate!'}\n",
            "-0.0544711365856172\n",
            "1000000\n",
            "0 {'msg': 'next candidate!'}\n",
            "-0.003523855815187882\n",
            "1000000\n",
            "0 {'msg': 'next candidate!'}\n",
            "0.005364475454210149\n",
            "1000000\n",
            "0 {'msg': 'next candidate!'}\n",
            "-0.07625414606562086\n",
            "1000000\n",
            "0.7 {'msg': 'the decision is made!'}\n",
            "0.0\n"
          ]
        },
        {
          "output_type": "stream",
          "name": "stderr",
          "text": [
            " 55%|█████▌    | 1100526/2000000 [05:52<05:29, 2725.91it/s]"
          ]
        },
        {
          "output_type": "stream",
          "name": "stdout",
          "text": [
            "1100000\n",
            "0 {'msg': 'next candidate!'}\n",
            "0.023776290642144926\n",
            "1100000\n",
            "0 {'msg': 'next candidate!'}\n",
            "-0.007443757644009286\n",
            "1100000\n",
            "0 {'msg': 'next candidate!'}\n",
            "-0.07582764061932934\n",
            "1100000\n",
            "0 {'msg': 'next candidate!'}\n",
            "0.05472777064631262\n",
            "1100000\n",
            "0 {'msg': 'next candidate!'}\n",
            "0.14697659502865146\n",
            "1100000\n",
            "0.95 {'msg': 'the decision is made!'}\n",
            "0.0\n"
          ]
        },
        {
          "output_type": "stream",
          "name": "stderr",
          "text": [
            " 60%|██████    | 1200605/2000000 [06:24<04:51, 2744.72it/s]"
          ]
        },
        {
          "output_type": "stream",
          "name": "stdout",
          "text": [
            "1200000\n",
            "0 {'msg': 'next candidate!'}\n",
            "-0.027068027808081152\n",
            "1200000\n",
            "0 {'msg': 'next candidate!'}\n",
            "0.02818822362090856\n",
            "1200000\n",
            "0 {'msg': 'next candidate!'}\n",
            "-0.03670915011998821\n",
            "1200000\n",
            "0 {'msg': 'next candidate!'}\n",
            "0.10198654765036796\n",
            "1200000\n",
            "0 {'msg': 'next candidate!'}\n",
            "-0.12218027952069221\n",
            "1200000\n",
            "0 {'msg': 'next candidate!'}\n",
            "0.06672157296758996\n",
            "1200000\n",
            "0 {'msg': 'next candidate!'}\n",
            "-0.1175728922321222\n",
            "1200000\n",
            "0 {'msg': 'next candidate!'}\n",
            "0.06197041312613005\n",
            "1200000\n",
            "0.8 {'msg': 'the decision is made!'}\n",
            "0.0\n"
          ]
        },
        {
          "output_type": "stream",
          "name": "stderr",
          "text": [
            " 65%|██████▌   | 1300339/2000000 [06:56<04:43, 2467.98it/s]"
          ]
        },
        {
          "output_type": "stream",
          "name": "stdout",
          "text": [
            "1300000\n",
            "0 {'msg': 'next candidate!'}\n",
            "-0.08336840858917915\n",
            "1300000\n",
            "0 {'msg': 'next candidate!'}\n",
            "0.12195423569229158\n",
            "1300000\n",
            "0 {'msg': 'next candidate!'}\n",
            "-0.15812397160886327\n",
            "1300000\n",
            "0 {'msg': 'next candidate!'}\n",
            "0.09979711387658985\n",
            "1300000\n",
            "0.8 {'msg': 'the decision is made!'}\n",
            "0.0\n"
          ]
        },
        {
          "output_type": "stream",
          "name": "stderr",
          "text": [
            " 70%|███████   | 1401328/2000000 [07:29<03:05, 3228.22it/s]"
          ]
        },
        {
          "output_type": "stream",
          "name": "stdout",
          "text": [
            "1400000\n",
            "0.95 {'msg': 'the decision is made!'}\n",
            "0.0\n"
          ]
        },
        {
          "output_type": "stream",
          "name": "stderr",
          "text": [
            " 75%|███████▌  | 1500813/2000000 [08:01<01:58, 4219.99it/s]"
          ]
        },
        {
          "output_type": "stream",
          "name": "stdout",
          "text": [
            "1500000\n",
            "0 {'msg': 'next candidate!'}\n",
            "0.06425862224495793\n",
            "1500000\n",
            "0 {'msg': 'next candidate!'}\n",
            "0.014237194890068583\n",
            "1500000\n",
            "0.9 {'msg': 'the decision is made!'}\n",
            "0.03203726261494588\n"
          ]
        },
        {
          "output_type": "stream",
          "name": "stderr",
          "text": [
            " 80%|████████  | 1600475/2000000 [08:31<02:04, 3213.78it/s]"
          ]
        },
        {
          "output_type": "stream",
          "name": "stdout",
          "text": [
            "1600000\n",
            "0 {'msg': 'next candidate!'}\n",
            "0.08410320197686116\n",
            "1600000\n",
            "0.85 {'msg': 'the decision is made!'}\n",
            "-0.023006669076268138\n"
          ]
        },
        {
          "output_type": "stream",
          "name": "stderr",
          "text": [
            " 85%|████████▌ | 1700692/2000000 [09:05<01:46, 2808.12it/s]"
          ]
        },
        {
          "output_type": "stream",
          "name": "stdout",
          "text": [
            "1700000\n",
            "0 {'msg': 'next candidate!'}\n",
            "-0.0174163711760269\n",
            "1700000\n",
            "0 {'msg': 'next candidate!'}\n",
            "-0.0491627451963601\n",
            "1700000\n",
            "0 {'msg': 'next candidate!'}\n",
            "0.021335332441646426\n",
            "1700000\n",
            "0 {'msg': 'next candidate!'}\n",
            "-0.0047821170646735744\n",
            "1700000\n",
            "0 {'msg': 'next candidate!'}\n",
            "-0.06253936504028457\n",
            "1700000\n",
            "0 {'msg': 'next candidate!'}\n",
            "-0.05480222888608133\n",
            "1700000\n",
            "0 {'msg': 'next candidate!'}\n",
            "0.04979949284769969\n",
            "1700000\n",
            "0 {'msg': 'next candidate!'}\n",
            "0.005170740384835115\n",
            "1700000\n",
            "0 {'msg': 'next candidate!'}\n",
            "0.07224368085697819\n",
            "1700000\n",
            "0 {'msg': 'next candidate!'}\n",
            "-0.1888822840374672\n",
            "1700000\n",
            "0 {'msg': 'next candidate!'}\n",
            "0.04552163640542817\n",
            "1700000\n",
            "0 {'msg': 'next candidate!'}\n",
            "-0.07984631267133169\n",
            "1700000\n",
            "0 {'msg': 'next candidate!'}\n",
            "0.0006579450081840577\n",
            "1700000\n",
            "0.65 {'msg': 'the decision is made!'}\n",
            "0.017567584078045817\n"
          ]
        },
        {
          "output_type": "stream",
          "name": "stderr",
          "text": [
            " 90%|█████████ | 1800503/2000000 [09:39<01:08, 2910.76it/s]"
          ]
        },
        {
          "output_type": "stream",
          "name": "stdout",
          "text": [
            "1800000\n",
            "0 {'msg': 'next candidate!'}\n",
            "-0.028109283977683308\n",
            "1800000\n",
            "0 {'msg': 'next candidate!'}\n",
            "-0.03832977863109088\n",
            "1800000\n",
            "0 {'msg': 'next candidate!'}\n",
            "0.03851195730528223\n",
            "1800000\n",
            "0 {'msg': 'next candidate!'}\n",
            "-0.0673756154313574\n",
            "1800000\n",
            "0 {'msg': 'next candidate!'}\n",
            "0.024024277561847662\n",
            "1800000\n",
            "0 {'msg': 'next candidate!'}\n",
            "-0.11609521273427814\n",
            "1800000\n",
            "0 {'msg': 'next candidate!'}\n",
            "0.17740140455082098\n",
            "1800000\n",
            "0.9 {'msg': 'the decision is made!'}\n",
            "0.011096407346007253\n"
          ]
        },
        {
          "output_type": "stream",
          "name": "stderr",
          "text": [
            " 95%|█████████▌| 1900406/2000000 [10:11<00:33, 2991.81it/s]"
          ]
        },
        {
          "output_type": "stream",
          "name": "stdout",
          "text": [
            "1900000\n",
            "0 {'msg': 'next candidate!'}\n",
            "-0.027720925358528214\n",
            "1900000\n",
            "0 {'msg': 'next candidate!'}\n",
            "0.032057944442717035\n",
            "1900000\n",
            "0 {'msg': 'next candidate!'}\n",
            "0.05463185205670906\n",
            "1900000\n",
            "0.85 {'msg': 'the decision is made!'}\n",
            "-0.025448411771590518\n"
          ]
        },
        {
          "output_type": "stream",
          "name": "stderr",
          "text": [
            "100%|██████████| 2000000/2000000 [10:43<00:00, 3106.30it/s]\n",
            "  0%|          | 859/2000000 [00:00<07:53, 4223.60it/s]"
          ]
        },
        {
          "output_type": "stream",
          "name": "stdout",
          "text": [
            "0\n",
            "0 {'msg': 'next candidate!'}\n",
            "0.9065319837380655\n",
            "0\n",
            "0 {'msg': 'next candidate!'}\n",
            "-0.7184543287783779\n",
            "0\n",
            "0 {'msg': 'next candidate!'}\n",
            "0.3596666569808883\n",
            "0\n",
            "0 {'msg': 'next candidate!'}\n",
            "-0.42744400877808586\n",
            "0\n",
            "0 {'msg': 'next candidate!'}\n",
            "1.126634955718281\n",
            "0\n",
            "0.7 {'msg': 'the decision is made!'}\n",
            "0.5407889212465309\n"
          ]
        },
        {
          "output_type": "stream",
          "name": "stderr",
          "text": [
            "  5%|▌         | 101049/2000000 [00:24<07:32, 4192.16it/s]"
          ]
        },
        {
          "output_type": "stream",
          "name": "stdout",
          "text": [
            "100000\n",
            "0 {'msg': 'next candidate!'}\n",
            "0.09762809873605871\n",
            "100000\n",
            "0.75 {'msg': 'the decision is made!'}\n",
            "0.0\n"
          ]
        },
        {
          "output_type": "stream",
          "name": "stderr",
          "text": [
            " 10%|█         | 200773/2000000 [00:48<06:45, 4434.37it/s]"
          ]
        },
        {
          "output_type": "stream",
          "name": "stdout",
          "text": [
            "200000\n",
            "0 {'msg': 'next candidate!'}\n",
            "-0.07254926159943664\n",
            "200000\n",
            "0 {'msg': 'next candidate!'}\n",
            "-0.14882013813250383\n",
            "200000\n",
            "0 {'msg': 'next candidate!'}\n",
            "-0.16588814306569527\n",
            "200000\n",
            "0.5 {'msg': 'the decision is made!'}\n",
            "0.0\n"
          ]
        },
        {
          "output_type": "stream",
          "name": "stderr",
          "text": [
            " 15%|█▌        | 300802/2000000 [01:12<07:49, 3620.96it/s]"
          ]
        },
        {
          "output_type": "stream",
          "name": "stdout",
          "text": [
            "300000\n",
            "0 {'msg': 'next candidate!'}\n",
            "-0.1468958012617897\n",
            "300000\n",
            "0 {'msg': 'next candidate!'}\n",
            "-0.13757256186794853\n",
            "300000\n",
            "0 {'msg': 'next candidate!'}\n",
            "0.2077761277077208\n",
            "300000\n",
            "0.95 {'msg': 'the decision is made!'}\n",
            "0.0\n"
          ]
        },
        {
          "output_type": "stream",
          "name": "stderr",
          "text": [
            " 20%|██        | 401166/2000000 [01:35<06:30, 4089.23it/s]"
          ]
        },
        {
          "output_type": "stream",
          "name": "stdout",
          "text": [
            "400000\n",
            "0 {'msg': 'next candidate!'}\n",
            "0.02526014200725135\n",
            "400000\n",
            "0 {'msg': 'next candidate!'}\n",
            "0.11426823502658678\n",
            "400000\n",
            "0.8 {'msg': 'the decision is made!'}\n",
            "0.0\n"
          ]
        },
        {
          "output_type": "stream",
          "name": "stderr",
          "text": [
            " 25%|██▌       | 501387/2000000 [01:59<05:11, 4816.50it/s]"
          ]
        },
        {
          "output_type": "stream",
          "name": "stdout",
          "text": [
            "500000\n",
            "0.85 {'msg': 'the decision is made!'}\n",
            "-0.009356613370890776\n"
          ]
        },
        {
          "output_type": "stream",
          "name": "stderr",
          "text": [
            " 30%|███       | 601653/2000000 [02:21<04:16, 5449.23it/s]"
          ]
        },
        {
          "output_type": "stream",
          "name": "stdout",
          "text": [
            "600000\n",
            "0 {'msg': 'next candidate!'}\n",
            "0.15861481483209228\n",
            "600000\n",
            "0.8 {'msg': 'the decision is made!'}\n",
            "0.0\n"
          ]
        },
        {
          "output_type": "stream",
          "name": "stderr",
          "text": [
            " 35%|███▌      | 701205/2000000 [02:41<04:54, 4409.07it/s]"
          ]
        },
        {
          "output_type": "stream",
          "name": "stdout",
          "text": [
            "700000\n",
            "0 {'msg': 'next candidate!'}\n",
            "-0.038311072612899455\n",
            "700000\n",
            "0 {'msg': 'next candidate!'}\n",
            "-0.07338982575484376\n",
            "700000\n",
            "0 {'msg': 'next candidate!'}\n",
            "-0.06257301254765057\n",
            "700000\n",
            "0.35 {'msg': 'the decision is made!'}\n",
            "0.012960599491798508\n"
          ]
        },
        {
          "output_type": "stream",
          "name": "stderr",
          "text": [
            " 40%|████      | 800928/2000000 [03:02<04:26, 4506.48it/s]"
          ]
        },
        {
          "output_type": "stream",
          "name": "stdout",
          "text": [
            "800000\n",
            "0 {'msg': 'next candidate!'}\n",
            "0.20803182772282158\n",
            "800000\n",
            "0.8 {'msg': 'the decision is made!'}\n",
            "0.0\n"
          ]
        },
        {
          "output_type": "stream",
          "name": "stderr",
          "text": [
            " 45%|████▌     | 900912/2000000 [03:23<04:27, 4108.05it/s]"
          ]
        },
        {
          "output_type": "stream",
          "name": "stdout",
          "text": [
            "900000\n",
            "0 {'msg': 'next candidate!'}\n",
            "-0.01575144569034237\n",
            "900000\n",
            "0.8 {'msg': 'the decision is made!'}\n",
            "0.0\n"
          ]
        },
        {
          "output_type": "stream",
          "name": "stderr",
          "text": [
            " 50%|█████     | 1001250/2000000 [03:42<03:26, 4829.50it/s]"
          ]
        },
        {
          "output_type": "stream",
          "name": "stdout",
          "text": [
            "1000000\n",
            "0.85 {'msg': 'the decision is made!'}\n",
            "-0.02792406423306404\n"
          ]
        },
        {
          "output_type": "stream",
          "name": "stderr",
          "text": [
            " 55%|█████▌    | 1100380/2000000 [04:01<02:41, 5568.76it/s]"
          ]
        },
        {
          "output_type": "stream",
          "name": "stdout",
          "text": [
            "1100000\n",
            "0 {'msg': 'next candidate!'}\n",
            "-0.09225747459935973\n",
            "1100000\n",
            "0 {'msg': 'next candidate!'}\n",
            "0.18813226814727063\n",
            "1100000\n",
            "0 {'msg': 'next candidate!'}\n",
            "-0.05712012516387299\n",
            "1100000\n",
            "0 {'msg': 'next candidate!'}\n",
            "-0.10144301825297497\n",
            "1100000\n",
            "0.6 {'msg': 'the decision is made!'}\n",
            "-0.03225203455985637\n"
          ]
        },
        {
          "output_type": "stream",
          "name": "stderr",
          "text": [
            " 60%|██████    | 1200655/2000000 [04:20<02:45, 4843.98it/s]"
          ]
        },
        {
          "output_type": "stream",
          "name": "stdout",
          "text": [
            "1200000\n",
            "0.7 {'msg': 'the decision is made!'}\n",
            "0.0\n"
          ]
        },
        {
          "output_type": "stream",
          "name": "stderr",
          "text": [
            " 65%|██████▌   | 1301393/2000000 [04:38<02:30, 4646.27it/s]"
          ]
        },
        {
          "output_type": "stream",
          "name": "stdout",
          "text": [
            "1300000\n",
            "0 {'msg': 'next candidate!'}\n",
            "-0.06701693162313482\n",
            "1300000\n",
            "0 {'msg': 'next candidate!'}\n",
            "0.19282820153579971\n",
            "1300000\n",
            "0.85 {'msg': 'the decision is made!'}\n",
            "-0.01186636694342913\n"
          ]
        },
        {
          "output_type": "stream",
          "name": "stderr",
          "text": [
            " 70%|███████   | 1400871/2000000 [04:57<01:55, 5190.35it/s]"
          ]
        },
        {
          "output_type": "stream",
          "name": "stdout",
          "text": [
            "1400000\n",
            "0 {'msg': 'next candidate!'}\n",
            "-0.190676347114362\n",
            "1400000\n",
            "0 {'msg': 'next candidate!'}\n",
            "0.05480688115753396\n",
            "1400000\n",
            "0 {'msg': 'next candidate!'}\n",
            "-0.21844043143986996\n",
            "1400000\n",
            "0.5 {'msg': 'the decision is made!'}\n",
            "0.0\n"
          ]
        },
        {
          "output_type": "stream",
          "name": "stderr",
          "text": [
            " 75%|███████▌  | 1500965/2000000 [05:17<01:28, 5669.99it/s]"
          ]
        },
        {
          "output_type": "stream",
          "name": "stdout",
          "text": [
            "1500000\n",
            "0 {'msg': 'next candidate!'}\n",
            "0.3094620128752057\n",
            "1500000\n",
            "0.95 {'msg': 'the decision is made!'}\n",
            "0.0\n"
          ]
        },
        {
          "output_type": "stream",
          "name": "stderr",
          "text": [
            " 80%|████████  | 1601048/2000000 [05:35<01:16, 5203.86it/s]"
          ]
        },
        {
          "output_type": "stream",
          "name": "stdout",
          "text": [
            "1600000\n",
            "0.85 {'msg': 'the decision is made!'}\n",
            "-0.04707971277454115\n"
          ]
        },
        {
          "output_type": "stream",
          "name": "stderr",
          "text": [
            " 85%|████████▌ | 1701048/2000000 [05:53<00:49, 6054.56it/s]"
          ]
        },
        {
          "output_type": "stream",
          "name": "stdout",
          "text": [
            "1700000\n",
            "0.65 {'msg': 'the decision is made!'}\n",
            "0.012505890895233573\n"
          ]
        },
        {
          "output_type": "stream",
          "name": "stderr",
          "text": [
            " 90%|█████████ | 1800838/2000000 [06:10<00:36, 5498.90it/s]"
          ]
        },
        {
          "output_type": "stream",
          "name": "stdout",
          "text": [
            "1800000\n",
            "0.6 {'msg': 'the decision is made!'}\n",
            "-0.017769766869770054\n"
          ]
        },
        {
          "output_type": "stream",
          "name": "stderr",
          "text": [
            " 95%|█████████▌| 1901749/2000000 [06:27<00:17, 5490.19it/s]"
          ]
        },
        {
          "output_type": "stream",
          "name": "stdout",
          "text": [
            "1900000\n",
            "0 {'msg': 'next candidate!'}\n",
            "0.15966600215583548\n",
            "1900000\n",
            "0.8 {'msg': 'the decision is made!'}\n",
            "0.0\n"
          ]
        },
        {
          "output_type": "stream",
          "name": "stderr",
          "text": [
            "100%|██████████| 2000000/2000000 [06:44<00:00, 4941.88it/s]\n",
            "  0%|          | 1162/2000000 [00:00<08:57, 3720.43it/s]"
          ]
        },
        {
          "output_type": "stream",
          "name": "stdout",
          "text": [
            "0\n",
            "0 {'msg': 'next candidate!'}\n",
            "1.319539532553461\n",
            "0\n",
            "0 {'msg': 'next candidate!'}\n",
            "1.3462664808198765\n",
            "0\n",
            "0.5 {'msg': 'the decision is made!'}\n",
            "-0.24891311971352104\n"
          ]
        },
        {
          "output_type": "stream",
          "name": "stderr",
          "text": [
            "  5%|▌         | 101092/2000000 [00:23<08:34, 3690.79it/s]"
          ]
        },
        {
          "output_type": "stream",
          "name": "stdout",
          "text": [
            "100000\n",
            "0 {'msg': 'next candidate!'}\n",
            "-0.12866346556015762\n",
            "100000\n",
            "0.1 {'msg': 'the decision is made!'}\n",
            "0.0\n"
          ]
        },
        {
          "output_type": "stream",
          "name": "stderr",
          "text": [
            " 10%|█         | 201125/2000000 [00:47<07:34, 3960.35it/s]"
          ]
        },
        {
          "output_type": "stream",
          "name": "stdout",
          "text": [
            "200000\n",
            "0.6 {'msg': 'the decision is made!'}\n",
            "-0.04901412494662649\n"
          ]
        },
        {
          "output_type": "stream",
          "name": "stderr",
          "text": [
            " 15%|█▌        | 300825/2000000 [01:11<07:32, 3754.51it/s]"
          ]
        },
        {
          "output_type": "stream",
          "name": "stdout",
          "text": [
            "300000\n",
            "0.55 {'msg': 'the decision is made!'}\n",
            "0.0\n"
          ]
        },
        {
          "output_type": "stream",
          "name": "stderr",
          "text": [
            " 20%|██        | 400952/2000000 [01:35<06:02, 4413.42it/s]"
          ]
        },
        {
          "output_type": "stream",
          "name": "stdout",
          "text": [
            "400000\n",
            "0.95 {'msg': 'the decision is made!'}\n",
            "0.0\n"
          ]
        },
        {
          "output_type": "stream",
          "name": "stderr",
          "text": [
            " 25%|██▌       | 500829/2000000 [01:58<05:06, 4891.81it/s]"
          ]
        },
        {
          "output_type": "stream",
          "name": "stdout",
          "text": [
            "500000\n",
            "0 {'msg': 'next candidate!'}\n",
            "-0.18560457058359336\n",
            "500000\n",
            "0.6 {'msg': 'the decision is made!'}\n",
            "-0.019081613423708954\n"
          ]
        },
        {
          "output_type": "stream",
          "name": "stderr",
          "text": [
            " 30%|███       | 600701/2000000 [02:20<05:37, 4141.28it/s]"
          ]
        },
        {
          "output_type": "stream",
          "name": "stdout",
          "text": [
            "600000\n",
            "0.6 {'msg': 'the decision is made!'}\n",
            "-0.02767063962957106\n"
          ]
        },
        {
          "output_type": "stream",
          "name": "stderr",
          "text": [
            " 35%|███▌      | 701198/2000000 [02:43<05:07, 4229.84it/s]"
          ]
        },
        {
          "output_type": "stream",
          "name": "stdout",
          "text": [
            "700000\n",
            "0.6 {'msg': 'the decision is made!'}\n",
            "-0.024731688528646822\n"
          ]
        },
        {
          "output_type": "stream",
          "name": "stderr",
          "text": [
            " 40%|████      | 800966/2000000 [03:05<05:40, 3523.35it/s]"
          ]
        },
        {
          "output_type": "stream",
          "name": "stdout",
          "text": [
            "800000\n",
            "0 {'msg': 'next candidate!'}\n",
            "0.13321964667545427\n",
            "800000\n",
            "0.85 {'msg': 'the decision is made!'}\n",
            "-0.016869757966891497\n"
          ]
        },
        {
          "output_type": "stream",
          "name": "stderr",
          "text": [
            " 45%|████▌     | 900756/2000000 [03:27<04:02, 4532.91it/s]"
          ]
        },
        {
          "output_type": "stream",
          "name": "stdout",
          "text": [
            "900000\n",
            "0 {'msg': 'next candidate!'}\n",
            "0.22114032515380033\n",
            "900000\n",
            "0.9 {'msg': 'the decision is made!'}\n",
            "0.03256141467153362\n"
          ]
        },
        {
          "output_type": "stream",
          "name": "stderr",
          "text": [
            " 50%|█████     | 1001121/2000000 [03:48<04:11, 3968.67it/s]"
          ]
        },
        {
          "output_type": "stream",
          "name": "stdout",
          "text": [
            "1000000\n",
            "0 {'msg': 'next candidate!'}\n",
            "0.20511299717239528\n",
            "1000000\n",
            "0.9 {'msg': 'the decision is made!'}\n",
            "0.0171345062014312\n"
          ]
        },
        {
          "output_type": "stream",
          "name": "stderr",
          "text": [
            " 55%|█████▌    | 1101063/2000000 [04:08<03:08, 4768.81it/s]"
          ]
        },
        {
          "output_type": "stream",
          "name": "stdout",
          "text": [
            "1100000\n",
            "0 {'msg': 'next candidate!'}\n",
            "0.1673827111455547\n",
            "1100000\n",
            "0.95 {'msg': 'the decision is made!'}\n",
            "0.0\n"
          ]
        },
        {
          "output_type": "stream",
          "name": "stderr",
          "text": [
            " 60%|██████    | 1200982/2000000 [04:29<02:52, 4642.66it/s]"
          ]
        },
        {
          "output_type": "stream",
          "name": "stdout",
          "text": [
            "1200000\n",
            "0 {'msg': 'next candidate!'}\n",
            "-0.2637958391303298\n",
            "1200000\n",
            "0 {'msg': 'next candidate!'}\n",
            "-0.0879915606993053\n",
            "1200000\n",
            "0 {'msg': 'next candidate!'}\n",
            "0.22322970381564655\n",
            "1200000\n",
            "0.75 {'msg': 'the decision is made!'}\n",
            "0.0\n"
          ]
        },
        {
          "output_type": "stream",
          "name": "stderr",
          "text": [
            " 65%|██████▌   | 1301222/2000000 [04:50<02:40, 4347.66it/s]"
          ]
        },
        {
          "output_type": "stream",
          "name": "stdout",
          "text": [
            "1300000\n",
            "0.95 {'msg': 'the decision is made!'}\n",
            "0.0\n"
          ]
        },
        {
          "output_type": "stream",
          "name": "stderr",
          "text": [
            " 70%|███████   | 1400748/2000000 [05:08<01:37, 6154.63it/s]"
          ]
        },
        {
          "output_type": "stream",
          "name": "stdout",
          "text": [
            "1400000\n",
            "0.9 {'msg': 'the decision is made!'}\n",
            "0.01323440547181054\n"
          ]
        },
        {
          "output_type": "stream",
          "name": "stderr",
          "text": [
            " 75%|███████▌  | 1500971/2000000 [05:25<01:12, 6907.29it/s]"
          ]
        },
        {
          "output_type": "stream",
          "name": "stdout",
          "text": [
            "1500000\n",
            "0.7 {'msg': 'the decision is made!'}\n",
            "0.0\n"
          ]
        },
        {
          "output_type": "stream",
          "name": "stderr",
          "text": [
            " 80%|████████  | 1601456/2000000 [05:42<00:55, 7182.42it/s]"
          ]
        },
        {
          "output_type": "stream",
          "name": "stdout",
          "text": [
            "1600000\n",
            "0 {'msg': 'next candidate!'}\n",
            "0.11586532859534515\n",
            "1600000\n",
            "0.85 {'msg': 'the decision is made!'}\n",
            "-0.011741613848731625\n"
          ]
        },
        {
          "output_type": "stream",
          "name": "stderr",
          "text": [
            " 85%|████████▌ | 1701250/2000000 [05:59<00:45, 6535.19it/s]"
          ]
        },
        {
          "output_type": "stream",
          "name": "stdout",
          "text": [
            "1700000\n",
            "0.45 {'msg': 'the decision is made!'}\n",
            "0.015686105472372924\n"
          ]
        },
        {
          "output_type": "stream",
          "name": "stderr",
          "text": [
            " 90%|█████████ | 1800723/2000000 [06:16<00:31, 6386.08it/s]"
          ]
        },
        {
          "output_type": "stream",
          "name": "stdout",
          "text": [
            "1800000\n",
            "0 {'msg': 'next candidate!'}\n",
            "0.10691141540607396\n",
            "1800000\n",
            "0.65 {'msg': 'the decision is made!'}\n",
            "0.03491000562092228\n"
          ]
        },
        {
          "output_type": "stream",
          "name": "stderr",
          "text": [
            " 95%|█████████▌| 1901249/2000000 [06:33<00:19, 5137.12it/s]"
          ]
        },
        {
          "output_type": "stream",
          "name": "stdout",
          "text": [
            "1900000\n",
            "0.6 {'msg': 'the decision is made!'}\n",
            "-0.037169347742952\n"
          ]
        },
        {
          "output_type": "stream",
          "name": "stderr",
          "text": [
            "100%|██████████| 2000000/2000000 [06:51<00:00, 4865.98it/s]\n"
          ]
        }
      ]
    },
    {
      "cell_type": "code",
      "source": [
        "for i in range(len(epsilon_vals_arr)):\n",
        "  plt.plot(np.arange(len(epsilon_vals_arr[i])),epsilon_vals_arr[i])\n",
        "\n",
        "plt.show()\n",
        "\n",
        "for i in range(len(r_arr)):\n",
        "  plt.plot(np.arange(len(r_arr[i])),r_arr[i])\n",
        "\n",
        "plt.show()\n",
        "\n",
        "for i in range(len(r_100_arr)):\n",
        "  plt.plot(np.arange(100,len(r_100_arr[i])),r_100_arr[i][100:])\n",
        "\n",
        "plt.show()"
      ],
      "metadata": {
        "colab": {
          "base_uri": "https://localhost:8080/",
          "height": 800
        },
        "id": "PdyAeJPpJyhx",
        "outputId": "6f604aaa-79b8-4bd0-d451-d7d4d159da75"
      },
      "execution_count": null,
      "outputs": [
        {
          "output_type": "display_data",
          "data": {
            "text/plain": [
              "<Figure size 432x288 with 1 Axes>"
            ],
            "image/png": "[encoded data removed]"
          },
          "metadata": {
            "needs_background": "light"
          }
        },
        {
          "output_type": "display_data",
          "data": {
            "text/plain": [
              "<Figure size 432x288 with 1 Axes>"
            ],
            "image/png": "[encoded data removed]"
          },
          "metadata": {
            "needs_background": "light"
          }
        },
        {
          "output_type": "display_data",
          "data": {
            "text/plain": [
              "<Figure size 432x288 with 1 Axes>"
            ],
            "image/png": "[encoded data removed]"
          },
          "metadata": {
            "needs_background": "light"
          }
        }
      ]
    },
    {
      "cell_type": "code",
      "source": [
        "def step(state,action,time, curr_arr, idx):\n",
        "    time+=1\n",
        "    if(action == 1 or time == N):\n",
        "      reward = state[2]\n",
        "      done = True\n",
        "      next_state = np.array([time/N,max(state[2],state[1]),-1])\n",
        "      if(action == 1):\n",
        "        info = {'msg': 'the decision is made!'}\n",
        "      else:\n",
        "        info = {'msg': 'we reached to the last candidate!'}\n",
        "      state = next_state\n",
        "      return next_state, reward, done, info, time\n",
        "    \n",
        "    elif(action == 0):\n",
        "      reward = 0\n",
        "      done = False\n",
        "      info = {'msg': 'next candidate!'}\n",
        "      next_cand_score = curr_arr[idx]\n",
        "      next_state = np.array([time/N,max(state[2],state[1]),next_cand_score])\n",
        "      state = next_state\n",
        "      return next_state,reward,done,info, time"
      ],
      "metadata": {
        "id": "0urHXgTiJ2SP"
      },
      "execution_count": null,
      "outputs": []
    },
    {
      "cell_type": "code",
      "source": [
        "def test_1(envi,episodes,test_arr,q,epsilon=0):\n",
        "  r  = []\n",
        "  r_100 = []\n",
        "  time_arr = []\n",
        "  for ep in tq.tqdm(range(episodes)):\n",
        "    curr_arr = test_arr[ep]\n",
        "    cur_state = np.array([0,0,curr_arr[0]])\n",
        "    cur_state=Discrete(cur_state)\n",
        "    time = 0\n",
        "    idx = 0\n",
        "    while True:\n",
        "      cur_ind1,cur_ind2,cur_ind3=get_indices(cur_state)\n",
        "      action=get_next_action(cur_ind1,cur_ind2,cur_ind3,epsilon,q)\n",
        "      next_state, reward, done, info, time=step(cur_state,action,time,curr_arr,idx+1)\n",
        "      next_state=Discrete(next_state)\n",
        "      if(done):\n",
        "        r.append(reward)\n",
        "        time_arr.append(time)\n",
        "        if(ep>100):\n",
        "          r_100.append(np.mean(r[-100:]))\n",
        "        break\n",
        "      cur_state=next_state\n",
        "      idx = idx + 1\n",
        "  # plt.plot(np.arange(episodes),r_100)\n",
        "  # plt.show()\n",
        "  return r, time_arr,r_100\n",
        "\n",
        "def get_testing_arr(epsiodes,N):\n",
        "  test_arr = []\n",
        "  act_y = []\n",
        "  act_y_args=[]\n",
        "  for i in range(episodes):\n",
        "    temp = np.random.rand(N)\n",
        "    test_arr.append(temp)\n",
        "    act_y.append(max(temp))\n",
        "    act_y_args.append(np.argmax(temp))\n",
        "  return test_arr,act_y,act_y_args\n",
        "\n",
        "episodes = 1000\n",
        "test_arr, act_y, act_y_args = get_testing_arr(episodes, N)\n",
        "r_100_arr=[]\n",
        "pred_y_arr=[]\n",
        "time_arrays=[]\n",
        "for i in range(len(q_tables)):\n",
        "  pred_y,time_arr,r_100=test_1(envi,episodes,test_arr,q_tables[i])\n",
        "  r_100_arr.append(r_100)\n",
        "  time_arrays.append(time_arr)\n",
        "  pred_y_arr.append(pred_y)\n"
      ],
      "metadata": {
        "colab": {
          "base_uri": "https://localhost:8080/"
        },
        "id": "IXS3thCvJ75X",
        "outputId": "c799cef1-9934-42a9-bc25-d4d2ed1ae83a"
      },
      "execution_count": null,
      "outputs": [
        {
          "output_type": "stream",
          "name": "stderr",
          "text": [
            "100%|██████████| 1000/1000 [00:00<00:00, 18047.39it/s]\n",
            "100%|██████████| 1000/1000 [00:00<00:00, 9370.76it/s]\n",
            "100%|██████████| 1000/1000 [00:00<00:00, 11826.63it/s]\n",
            "100%|██████████| 1000/1000 [00:00<00:00, 12509.26it/s]\n"
          ]
        }
      ]
    },
    {
      "cell_type": "code",
      "source": [
        "for i in range(len(r_100_arr)):\n",
        "  plt.plot(np.arange(len(r_100_arr[i])),r_100_arr[i])\n",
        "\n",
        "plt.show()\n",
        "for i in range(len(pred_y_arr)):\n",
        "  print(\"Mean of difference between predicted and actual :\"+str(np.mean(np.array(act_y)-np.array(pred_y_arr[i]))))\n",
        "\n",
        "for i in range(len(time_arrays)):\n",
        "  print(\"Mean of time arrays : \"+str(np.mean(time_arrays[i])))"
      ],
      "metadata": {
        "colab": {
          "base_uri": "https://localhost:8080/",
          "height": 193
        },
        "id": "lMB37l0XKLl_",
        "outputId": "f1582264-f38b-4f7b-a41d-2daf889be068"
      },
      "execution_count": null,
      "outputs": [
        {
          "output_type": "display_data",
          "data": {
            "text/plain": [
              "<Figure size 432x288 with 1 Axes>"
            ],
            "image/png": "[encoded data removed]"
          },
          "metadata": {
            "needs_background": "light"
          }
        },
        {
          "output_type": "stream",
          "name": "stdout",
          "text": [
            "Mean of difference between predicted and actual :0.2962967357705693\n",
            "Mean of difference between predicted and actual :0.2845467357705692\n",
            "Mean of difference between predicted and actual :0.30394673577056924\n",
            "Mean of difference between predicted and actual :0.30464673577056933\n",
            "Mean of time arrays : 3.121\n",
            "Mean of time arrays : 2.672\n",
            "Mean of time arrays : 1.765\n",
            "Mean of time arrays : 1.932\n"
          ]
        }
      ]
    }
  ]
}