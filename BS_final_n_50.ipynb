{
  "nbformat": 4,
  "nbformat_minor": 0,
  "metadata": {
    "colab": {
      "name": "BS_final_n_50.ipynb",
      "provenance": []
    },
    "kernelspec": {
      "name": "python3",
      "display_name": "Python 3"
    },
    "language_info": {
      "name": "python"
    },
    "accelerator": "GPU"
  },
  "cells": [
    {
      "cell_type": "code",
      "execution_count": 38,
      "metadata": {
        "colab": {
          "base_uri": "https://localhost:8080/"
        },
        "id": "yS14BpUhK6O5",
        "outputId": "9cce1874-fa06-4628-ebb8-85e1b75cb042"
      },
      "outputs": [
        {
          "output_type": "stream",
          "name": "stdout",
          "text": [
            "Found GPU at: /device:GPU:0\n"
          ]
        }
      ],
      "source": [
        "import torch\n",
        "import torch.nn as nn\n",
        "import torch.nn.functional as F\n",
        "import numpy as np\n",
        "\n",
        "import matplotlib.pyplot as plt\n",
        "import torch.optim as optim\n",
        "import tqdm as tq\n",
        "\n",
        "%tensorflow_version 2.x\n",
        "import tensorflow as tf\n",
        "device_name = tf.test.gpu_device_name()\n",
        "if device_name != '/device:GPU:0':\n",
        "  raise SystemError('GPU device not found')\n",
        "print('Found GPU at: {}'.format(device_name))"
      ]
    },
    {
      "cell_type": "code",
      "source": [
        "n=50\n",
        "training_examples=50000\n",
        "cv_examples=5000\n",
        "testing_examples=5000\n",
        "\n",
        "class Net_NHL(nn.Module):\n",
        "  def __init__(self):\n",
        "    super().__init__()\n",
        "    self.fc = nn.Linear(n+1,1)\n",
        "  \n",
        "  def forward(self, X):\n",
        "    return self.fc(X)\n",
        "\n",
        "class Net_1HL(nn.Module):\n",
        "  def __init__(self):\n",
        "    super().__init__()\n",
        "    self.fc = nn.Linear(n+1,n//2)\n",
        "    self.fc1=nn.Linear(n//2,1)\n",
        "  \n",
        "  def forward(self, X):\n",
        "    Op_1=F.relu(self.fc(X))\n",
        "    Op_2=self.fc1(Op_1)\n",
        "    return Op_2\n",
        "\n",
        "class Net_2HL(nn.Module):\n",
        "  def __init__(self):\n",
        "    super().__init__()\n",
        "    self.fc = nn.Linear(n+1,n//2)\n",
        "    self.fc1=nn.Linear(n//2,n//4)\n",
        "    self.fc2=nn.Linear(n//4,1)\n",
        "  \n",
        "  def forward(self, X):\n",
        "    Op_1=F.relu(self.fc(X))\n",
        "    Op_2=F.relu(self.fc1(Op_1))\n",
        "    Op_3=self.fc2(Op_2)\n",
        "    return Op_3\n"
      ],
      "metadata": {
        "id": "zLwpZ1LtLA3S"
      },
      "execution_count": 39,
      "outputs": []
    },
    {
      "cell_type": "code",
      "source": [
        "def generate_dataset(examples,n,_type):\n",
        "  if(_type=='uniform'):\n",
        "    train = np.random.rand(examples,n)\n",
        "  elif(_type=='normal'):\n",
        "    train = np.random.normal(loc=0,scale=1,size=(examples,n))\n",
        "  elif(_type=='exponential'):\n",
        "    train=np.random.exponential(scale=np.random.randint(1,5),size=(examples,n))\n",
        "  \n",
        "  train.sort()\n",
        "  search = np.random.randint(0,n,examples)\n",
        "  val = train[np.arange(len(train)), search]\n",
        "  final_train= np.c_[train,val]\n",
        "  final_train=final_train.astype(\"float32\")\n",
        "  mini=np.amin(final_train,axis = 1).reshape(examples,1)\n",
        "  maxi=np.amax(final_train,axis = 1).reshape(examples,1)\n",
        "  final_train=(final_train-mini)/(maxi-mini)\n",
        "\n",
        "  final_train_ans=search/n\n",
        "  final_train_ans=final_train_ans.astype(\"float32\")\n",
        "\n",
        "  train_input= torch.from_numpy(final_train)\n",
        "  train_ans = torch.from_numpy(final_train_ans)\n",
        "  train_input = train_input.to('cuda')\n",
        "  train_ans = train_ans.to('cuda')\n",
        "\n",
        "\n",
        "  return train_input,train_ans\n",
        "\n",
        "def train_dataset(net,train_input,train_ans,cv_input,cv_ans,examples,lr=1e-2,batch_size=5000,epochs=1000):\n",
        "  optimizer = optim.Adam(net.parameters(),lr =lr)\n",
        "  train_loss = []\n",
        "  cv_loss = []\n",
        "\n",
        "  for e in tq.tqdm(range(epochs)):\n",
        "    epoch_loss = 0\n",
        "    for b in range(int(examples/batch_size)):\n",
        "      \n",
        "      x = train_input[b*batch_size:(b+1)*batch_size]\n",
        "      y = train_ans[b*batch_size:(b+1)*batch_size]\n",
        "      out = net(x.view(-1,n+1))\n",
        "      loss= F.mse_loss(out.view(-1),y)\n",
        "      epoch_loss += loss.item()\n",
        "      loss.backward()\n",
        "      optimizer.step()\n",
        "      optimizer.zero_grad()\n",
        "    epoch_loss = epoch_loss/int(examples/batch_size)\n",
        "    train_loss.append(epoch_loss)  \n",
        "    print(epoch_loss)\n",
        "\n",
        "    out = net(cv_input.view(-1,n+1))\n",
        "    loss= F.mse_loss(out.view(-1),cv_ans)\n",
        "    cv_loss.append(loss.item())\n",
        "\n",
        "  plt.plot(np.arange(epochs),train_loss,label = 'Train')\n",
        "  plt.plot(np.arange(epochs),cv_loss,label = 'Cross Validation')\n",
        "  plt.xlabel('Epochs')\n",
        "  plt.ylabel('Average Epoch MSE Loss')\n",
        "  plt.legend()\n",
        "  plt.title('Loss vs Epochs')\n",
        "  plt.show()\n"
      ],
      "metadata": {
        "id": "_fkcqET2Myvs"
      },
      "execution_count": 40,
      "outputs": []
    },
    {
      "cell_type": "code",
      "source": [
        "def binary_search(arr, l, r,x,cnt=0):\n",
        "  # arr = list(arr)\n",
        "  if r >= l:\n",
        "        mid = l + int(np.floor((r - l)/ 2))\n",
        "        if arr[mid] == x:\n",
        "            return mid,cnt+1\n",
        "        elif arr[mid] > x:\n",
        "            return binary_search(arr, l, mid-1, x,cnt+1)\n",
        "        else:\n",
        "            return binary_search(arr, mid + 1, r, x,cnt+1)\n",
        "  else:\n",
        "        return r,cnt\n",
        "\n",
        "def predict(net,test_input,n):\n",
        "  out=net(test_input.view(-1,n+1))\n",
        "  out=out*n\n",
        "  return out\n",
        "\n",
        "def get_predictions(test_input,n,examples,out):\n",
        "  predictions_cnt = []\n",
        "  bs_cnt = []\n",
        "  for i in range(examples):\n",
        "    bs_cnt.append(binary_search(test_input[i],0,n-1,test_input[i][n])[1])\n",
        "    idx = int(out[i]) #predicted index\n",
        "    if(idx>=n):\n",
        "      idx = n-1\n",
        "    if(idx<0):\n",
        "      idx = 0\n",
        "    \n",
        "    if(test_input[i][idx] > test_input[i][n]):\n",
        "      sub = 2\n",
        "      cnt = 1\n",
        "      while idx-sub >= 0:\n",
        "        cnt+=1\n",
        "        if(test_input[i][idx-sub] < test_input[i][n]):\n",
        "          break;\n",
        "        sub*= 2\n",
        "      left = max(idx-sub,0)\n",
        "      right = idx-(sub//2)\n",
        "      predictions_cnt.append(binary_search(test_input[i],left,right,test_input[i][n],cnt)[1])\n",
        "      \n",
        "    elif (test_input[i][idx] < test_input[i][n]):\n",
        "      sub = 2\n",
        "      cnt = 1\n",
        "      while idx+sub <= n-1:\n",
        "        cnt+=1\n",
        "        if(test_input[i][idx+sub] > test_input[i][n]):\n",
        "          break;\n",
        "        sub*= 2\n",
        "      left = idx+(sub//2)\n",
        "      right = min(idx+sub,n-1)\n",
        "      predictions_cnt.append(binary_search(test_input[i],left,right,test_input[i][n],cnt)[1])\n",
        "    else:\n",
        "      predictions_cnt.append(1)\n",
        "    \n",
        "  return predictions_cnt,bs_cnt"
      ],
      "metadata": {
        "id": "I4vbcqXqNp-F"
      },
      "execution_count": 41,
      "outputs": []
    },
    {
      "cell_type": "code",
      "source": [
        "def test_single_array(net,n,_type):\n",
        "  np.random.seed(64)\n",
        "  if(_type=='normal'):\n",
        "    testing = np.random.normal(loc=0,scale=1,size=n)\n",
        "  elif(_type=='uniform'):\n",
        "    testing = np.random.rand(n)\n",
        "  elif(_type=='exponential'):\n",
        "    testing=np.random.exponential(scale=np.random.randint(1,5),size=n)\n",
        "\n",
        "  testing.sort()\n",
        "  testing=(testing-testing[0])/(testing[n-1]-testing[0])\n",
        "  \n",
        "  L=[]\n",
        "  for i in range(n):\n",
        "    test_val = testing[i]\n",
        "    test = np.append(testing,test_val)\n",
        "    test = test.astype('float32')\n",
        "    test_input = torch.from_numpy(test)\n",
        "    test_input = test_input.to(\"cuda\")\n",
        "    out = net(test_input.view(-1, n+1))\n",
        "    L.append(out.item()*n)\n",
        "  \n",
        "  plt.scatter(np.arange(n),testing)\n",
        "  plt.title('Test Array')\n",
        "  plt.xlabel('Index')\n",
        "  plt.ylabel('Test Array Value')\n",
        "  plt.show()\n",
        "  plt.scatter(np.arange(n),L)\n",
        "  plt.title('Predicted Index for each element')\n",
        "  plt.xlabel('Index')\n",
        "  plt.ylabel('Predicted Index')\n",
        "  plt.show()\n",
        "    "
      ],
      "metadata": {
        "id": "O_FCCrAYPaef"
      },
      "execution_count": 42,
      "outputs": []
    },
    {
      "cell_type": "code",
      "source": [
        "def generate_plots(predictions_cnt,bs_cnt):\n",
        "  unique1, counts1 = np.unique(predictions_cnt, return_counts=True)\n",
        "  d1  = dict(zip(unique1, counts1))\n",
        "  unique2, counts2 = np.unique(bs_cnt, return_counts=True)\n",
        "  d2  = dict(zip(unique2, counts2))\n",
        "  plt.plot(list(d1.keys()),list(d1.values()),label = 'Predictor')\n",
        "  plt.plot(list(d2.keys()),list(d2.values()),label = 'Binary Search')\n",
        "  plt.xlabel('Number of Array Lookups(Steps)')\n",
        "  plt.ylabel('Count of Test Inputs')\n",
        "  plt.legend()\n",
        "  plt.show()\n",
        "\n",
        "  return d1,d2\n",
        "\n",
        "def average_steps(d1,d2):\n",
        "  print('Average Number of Steps')\n",
        "  s=0\n",
        "  for i in d1:\n",
        "    s+=d1[i]*i\n",
        "  print('Through Predictor:'+str(s/testing_examples))\n",
        "  s=0\n",
        "  for i in d2:\n",
        "    s+=d2[i]*i\n",
        "  print('Through Binary Search:'+str(s/testing_examples))\n"
      ],
      "metadata": {
        "id": "-c65t1Q-S8Vz"
      },
      "execution_count": 43,
      "outputs": []
    },
    {
      "cell_type": "markdown",
      "source": [
        "#Uniform\n"
      ],
      "metadata": {
        "id": "QqNc43x0W5nV"
      }
    },
    {
      "cell_type": "code",
      "source": [
        "net=Net_NHL()\n",
        "net.to('cuda')\n",
        "\n",
        "train_input,train_ans=generate_dataset(training_examples,n,_type='uniform')\n",
        "cv_input,cv_ans=generate_dataset(cv_examples,n,_type='uniform')\n",
        "train_dataset(net,train_input,train_ans,cv_input,cv_ans,training_examples,epochs=30)\n",
        "test_single_array(net,n,'uniform')\n",
        "\n",
        "np.random.seed(42)\n",
        "test_input,test_ans=generate_dataset(testing_examples,n,_type='uniform')\n",
        "out=predict(net,test_input,n)\n",
        "predictions_cnt,bs_cnt=get_predictions(test_input,n,testing_examples,out)\n",
        "d1,d2=generate_plots(predictions_cnt,bs_cnt)\n",
        "average_steps(d1,d2)\n",
        "\n"
      ],
      "metadata": {
        "colab": {
          "base_uri": "https://localhost:8080/",
          "height": 1000
        },
        "id": "EBUoRxAaTTAS",
        "outputId": "88e4e675-510f-441a-84a9-916e2ebf8c0a"
      },
      "execution_count": 44,
      "outputs": [
        {
          "output_type": "stream",
          "name": "stderr",
          "text": [
            " 60%|██████    | 18/30 [00:00<00:00, 87.62it/s]"
          ]
        },
        {
          "output_type": "stream",
          "name": "stdout",
          "text": [
            "0.110938560962677\n",
            "0.08370920419692993\n",
            "0.0681281965225935\n",
            "0.05553385801613331\n",
            "0.044778167828917505\n",
            "0.03575572520494461\n",
            "0.028283958695828913\n",
            "0.022175840847194195\n",
            "0.01726223398000002\n",
            "0.013373014889657498\n",
            "0.01034189686179161\n",
            "0.0080200070515275\n",
            "0.006269238935783505\n",
            "0.0049708901904523374\n",
            "0.004023904097266495\n",
            "0.003344547818414867\n",
            "0.0028647898696362974\n",
            "0.0025307433214038612\n"
          ]
        },
        {
          "output_type": "stream",
          "name": "stderr",
          "text": [
            "100%|██████████| 30/30 [00:00<00:00, 87.18it/s]\n"
          ]
        },
        {
          "output_type": "stream",
          "name": "stdout",
          "text": [
            "0.0023012007819488644\n",
            "0.0021449517691507934\n",
            "0.002039216400589794\n",
            "0.0019676017458550633\n",
            "0.0019186578691005706\n",
            "0.0018845217418856919\n",
            "0.0018599481321871282\n",
            "0.00184148425469175\n",
            "0.0018269289867021143\n",
            "0.0018148923525586724\n",
            "0.0018045201082713901\n",
            "0.0017952951486222446\n"
          ]
        },
        {
          "output_type": "display_data",
          "data": {
            "text/plain": [
              "<Figure size 432x288 with 1 Axes>"
            ],
            "image/png": "[encoded data removed]"
          },
          "metadata": {
            "needs_background": "light"
          }
        },
        {
          "output_type": "display_data",
          "data": {
            "text/plain": [
              "<Figure size 432x288 with 1 Axes>"
            ],
            "image/png": "[encoded data removed]"
          },
          "metadata": {
            "needs_background": "light"
          }
        },
        {
          "output_type": "display_data",
          "data": {
            "text/plain": [
              "<Figure size 432x288 with 1 Axes>"
            ],
            "image/png": "[encoded data removed]"
          },
          "metadata": {
            "needs_background": "light"
          }
        },
        {
          "output_type": "display_data",
          "data": {
            "text/plain": [
              "<Figure size 432x288 with 1 Axes>"
            ],
            "image/png": "[encoded data removed]"
          },
          "metadata": {
            "needs_background": "light"
          }
        },
        {
          "output_type": "stream",
          "name": "stdout",
          "text": [
            "Average Number of Steps\n",
            "Through Predictor:3.6516\n",
            "Through Binary Search:4.8676\n"
          ]
        }
      ]
    },
    {
      "cell_type": "code",
      "source": [
        "net_1=Net_1HL()\n",
        "net_1.to('cuda')\n",
        "\n",
        "train_input,train_ans=generate_dataset(training_examples,n,_type='uniform')\n",
        "cv_input,cv_ans=generate_dataset(cv_examples,n,_type='uniform')\n",
        "train_dataset(net_1,train_input,train_ans,cv_input,cv_ans,training_examples,epochs=20)\n",
        "test_single_array(net_1,n,'uniform')\n",
        "\n",
        "np.random.seed(42)\n",
        "test_input,out=generate_dataset(testing_examples,n,_type='uniform')\n",
        "out=predict(net_1,test_input,n)\n",
        "predictions_cnt,bs_cnt=get_predictions(test_input,n,testing_examples,out)\n",
        "d1,d2=generate_plots(predictions_cnt,bs_cnt)\n",
        "average_steps(d1,d2)"
      ],
      "metadata": {
        "colab": {
          "base_uri": "https://localhost:8080/",
          "height": 1000
        },
        "id": "FjY6YzlvUsAG",
        "outputId": "c5cad251-3fa1-4ed0-a7ba-0fa0a8e115eb"
      },
      "execution_count": 45,
      "outputs": [
        {
          "output_type": "stream",
          "name": "stderr",
          "text": [
            "\r  0%|          | 0/20 [00:00<?, ?it/s]"
          ]
        },
        {
          "output_type": "stream",
          "name": "stdout",
          "text": [
            "0.1981994055211544\n"
          ]
        },
        {
          "output_type": "stream",
          "name": "stderr",
          "text": [
            " 60%|██████    | 12/20 [00:00<00:00, 55.23it/s]"
          ]
        },
        {
          "output_type": "stream",
          "name": "stdout",
          "text": [
            "0.09010213762521743\n",
            "0.07292499616742135\n",
            "0.06298442110419274\n",
            "0.05330309309065342\n",
            "0.04295127056539059\n",
            "0.03088279627263546\n",
            "0.018462757114320993\n",
            "0.008668225817382335\n",
            "0.0037273622350767256\n",
            "0.0024665888166055085\n",
            "0.0023804929340258242\n",
            "0.0022977657383307813\n"
          ]
        },
        {
          "output_type": "stream",
          "name": "stderr",
          "text": [
            "100%|██████████| 20/20 [00:00<00:00, 52.92it/s]\n"
          ]
        },
        {
          "output_type": "stream",
          "name": "stdout",
          "text": [
            "0.002167772641405463\n",
            "0.0020874512149021028\n",
            "0.0020348525955341755\n",
            "0.0019911395385861395\n",
            "0.0019528217613697051\n",
            "0.001919720380101353\n",
            "0.001891144982073456\n"
          ]
        },
        {
          "output_type": "display_data",
          "data": {
            "text/plain": [
              "<Figure size 432x288 with 1 Axes>"
            ],
            "image/png": "[encoded data removed]"
          },
          "metadata": {
            "needs_background": "light"
          }
        },
        {
          "output_type": "display_data",
          "data": {
            "text/plain": [
              "<Figure size 432x288 with 1 Axes>"
            ],
            "image/png": "[encoded data removed]"
          },
          "metadata": {
            "needs_background": "light"
          }
        },
        {
          "output_type": "display_data",
          "data": {
            "text/plain": [
              "<Figure size 432x288 with 1 Axes>"
            ],
            "image/png": "[encoded data removed]"
          },
          "metadata": {
            "needs_background": "light"
          }
        },
        {
          "output_type": "display_data",
          "data": {
            "text/plain": [
              "<Figure size 432x288 with 1 Axes>"
            ],
            "image/png": "[encoded data removed]"
          },
          "metadata": {
            "needs_background": "light"
          }
        },
        {
          "output_type": "stream",
          "name": "stdout",
          "text": [
            "Average Number of Steps\n",
            "Through Predictor:3.666\n",
            "Through Binary Search:4.8676\n"
          ]
        }
      ]
    },
    {
      "cell_type": "markdown",
      "source": [
        "#Normal\n"
      ],
      "metadata": {
        "id": "y8FO8Ld4W2Jj"
      }
    },
    {
      "cell_type": "code",
      "source": [
        "net=Net_NHL()\n",
        "net.to('cuda')\n",
        "\n",
        "train_input,train_ans=generate_dataset(training_examples,n,_type='normal')\n",
        "cv_input,cv_ans=generate_dataset(cv_examples,n,_type='normal')\n",
        "train_dataset(net,train_input,train_ans,cv_input,cv_ans,training_examples,epochs=50)\n",
        "test_single_array(net,n,'normal')\n",
        "\n",
        "np.random.seed(42)\n",
        "test_input,test_ans=generate_dataset(testing_examples,n,_type='normal')\n",
        "out=predict(net,test_input,n)\n",
        "predictions_cnt,bs_cnt=get_predictions(test_input,n,testing_examples,out)\n",
        "d1,d2=generate_plots(predictions_cnt,bs_cnt)\n",
        "average_steps(d1,d2)"
      ],
      "metadata": {
        "colab": {
          "base_uri": "https://localhost:8080/",
          "height": 1000
        },
        "id": "Bgelbs2UWPkA",
        "outputId": "5bf96c6d-3c72-4161-d037-94bccb9dfcf5"
      },
      "execution_count": 46,
      "outputs": [
        {
          "output_type": "stream",
          "name": "stderr",
          "text": [
            " 18%|█▊        | 9/50 [00:00<00:00, 85.39it/s]"
          ]
        },
        {
          "output_type": "stream",
          "name": "stdout",
          "text": [
            "0.09899216443300247\n",
            "0.07196348011493683\n",
            "0.06255588270723819\n",
            "0.05450064241886139\n",
            "0.047532955557107924\n",
            "0.041241996735334394\n",
            "0.03558823987841606\n",
            "0.030587026663124562\n",
            "0.026213360764086247\n",
            "0.02243546675890684\n",
            "0.019216021150350572\n",
            "0.016506534069776535\n",
            "0.014258722215890885\n",
            "0.012412021029740572\n",
            "0.010898667294532061\n",
            "0.009668011497706176\n",
            "0.008680140413343907\n",
            "0.007895166985690594"
          ]
        },
        {
          "output_type": "stream",
          "name": "stderr",
          "text": [
            " 54%|█████▍    | 27/50 [00:00<00:00, 83.11it/s]"
          ]
        },
        {
          "output_type": "stream",
          "name": "stdout",
          "text": [
            "\n",
            "0.007275940338149667\n",
            "0.006792463036254049\n",
            "0.006418361375108361\n",
            "0.0061310982331633564\n",
            "0.005912398034706712\n",
            "0.005746961943805218\n",
            "0.005622605374082923\n",
            "0.00552953165024519\n",
            "0.0054600770119577645\n",
            "0.005408268794417382\n",
            "0.0053695420734584335\n",
            "0.005340430559590459\n",
            "0.005318346386775375\n",
            "0.005301371030509472\n",
            "0.005288103176280856\n",
            "0.005277526704594493\n",
            "0.005268914578482509\n"
          ]
        },
        {
          "output_type": "stream",
          "name": "stderr",
          "text": [
            "100%|██████████| 50/50 [00:00<00:00, 81.63it/s]"
          ]
        },
        {
          "output_type": "stream",
          "name": "stdout",
          "text": [
            "0.00526174963451922\n",
            "0.005255668563768268\n",
            "0.005250416789203882\n",
            "0.005245818290859461\n",
            "0.0052417527418583635\n",
            "0.005238137021660805\n",
            "0.005234915716573596\n",
            "0.005232053250074387\n",
            "0.005229528015479446\n",
            "0.00522732799872756\n",
            "0.005225450731813908\n",
            "0.005223900079727173\n",
            "0.005222685821354389\n",
            "0.0052218219265341755\n",
            "0.0052213279996067286\n"
          ]
        },
        {
          "output_type": "stream",
          "name": "stderr",
          "text": [
            "\n"
          ]
        },
        {
          "output_type": "display_data",
          "data": {
            "text/plain": [
              "<Figure size 432x288 with 1 Axes>"
            ],
            "image/png": "[encoded data removed]"
          },
          "metadata": {
            "needs_background": "light"
          }
        },
        {
          "output_type": "display_data",
          "data": {
            "text/plain": [
              "<Figure size 432x288 with 1 Axes>"
            ],
            "image/png": "[encoded data removed]"
          },
          "metadata": {
            "needs_background": "light"
          }
        },
        {
          "output_type": "display_data",
          "data": {
            "text/plain": [
              "<Figure size 432x288 with 1 Axes>"
            ],
            "image/png": "[encoded data removed]"
          },
          "metadata": {
            "needs_background": "light"
          }
        },
        {
          "output_type": "display_data",
          "data": {
            "text/plain": [
              "<Figure size 432x288 with 1 Axes>"
            ],
            "image/png": "[encoded data removed]"
          },
          "metadata": {
            "needs_background": "light"
          }
        },
        {
          "output_type": "stream",
          "name": "stdout",
          "text": [
            "Average Number of Steps\n",
            "Through Predictor:4.2116\n",
            "Through Binary Search:4.8406\n"
          ]
        }
      ]
    },
    {
      "cell_type": "code",
      "source": [
        "net_1=Net_1HL()\n",
        "net_1.to('cuda')\n",
        "\n",
        "train_input,train_ans=generate_dataset(training_examples,n,_type='normal')\n",
        "cv_input,cv_ans=generate_dataset(cv_examples,n,_type='normal')\n",
        "train_dataset(net_1,train_input,train_ans,cv_input,cv_ans,training_examples,epochs=50)\n",
        "test_single_array(net_1,n,'normal')\n",
        "\n",
        "np.random.seed(42)\n",
        "test_input,test_ans=generate_dataset(testing_examples,n,_type='normal')\n",
        "out=predict(net_1,test_input,n)\n",
        "predictions_cnt,bs_cnt=get_predictions(test_input,n,testing_examples,out)\n",
        "d1,d2=generate_plots(predictions_cnt,bs_cnt)\n",
        "average_steps(d1,d2)"
      ],
      "metadata": {
        "colab": {
          "base_uri": "https://localhost:8080/",
          "height": 1000
        },
        "id": "5rSdnWsWXDqS",
        "outputId": "edd58ff5-562d-447f-d638-00fcbedf65c2"
      },
      "execution_count": 47,
      "outputs": [
        {
          "output_type": "stream",
          "name": "stderr",
          "text": [
            " 26%|██▌       | 13/50 [00:00<00:00, 60.00it/s]"
          ]
        },
        {
          "output_type": "stream",
          "name": "stdout",
          "text": [
            "0.12984068393707277\n",
            "0.08415090665221214\n",
            "0.07256845831871032\n",
            "0.06482466198503971\n",
            "0.055829012766480446\n",
            "0.044591504707932474\n",
            "0.031142528168857098\n",
            "0.017972590029239656\n",
            "0.009070879267528652\n",
            "0.00564607409760356\n",
            "0.004782463703304529\n",
            "0.004285195376724005\n",
            "0.0040141096571460365\n"
          ]
        },
        {
          "output_type": "stream",
          "name": "stderr",
          "text": [
            " 50%|█████     | 25/50 [00:00<00:00, 56.68it/s]"
          ]
        },
        {
          "output_type": "stream",
          "name": "stdout",
          "text": [
            "0.0038602100452408195\n",
            "0.0037514641880989075\n",
            "0.0036732876440510156\n",
            "0.0036107257008552553\n",
            "0.0035550315165892243\n",
            "0.0035052863880991937\n",
            "0.0034600785933434964\n",
            "0.0034183161333203316\n",
            "0.003375295293517411\n",
            "0.0033252886962145565\n",
            "0.0032609728630632164\n",
            "0.003187914798036218\n"
          ]
        },
        {
          "output_type": "stream",
          "name": "stderr",
          "text": [
            " 74%|███████▍  | 37/50 [00:00<00:00, 57.05it/s]"
          ]
        },
        {
          "output_type": "stream",
          "name": "stdout",
          "text": [
            "0.0031259042443707585\n",
            "0.0030743422685191035\n",
            "0.0030191168654710053\n",
            "0.0029670311603695156\n",
            "0.0029148754198104142\n",
            "0.0028667037142440675\n",
            "0.002822383982129395\n",
            "0.002785637602210045\n",
            "0.00276070109102875\n",
            "0.002739142091013491\n",
            "0.002705531497485936\n",
            "0.0026623561047017575\n"
          ]
        },
        {
          "output_type": "stream",
          "name": "stderr",
          "text": [
            " 98%|█████████▊| 49/50 [00:00<00:00, 56.46it/s]"
          ]
        },
        {
          "output_type": "stream",
          "name": "stdout",
          "text": [
            "0.0026200094958767294\n",
            "0.0025795570109039545\n",
            "0.0025391267612576486\n",
            "0.002500942163169384\n",
            "0.002468710276298225\n",
            "0.002445571101270616\n",
            "0.002429336216300726\n",
            "0.0024098133202642203\n",
            "0.0023907772731035946\n",
            "0.002365421340800822\n",
            "0.002337743923999369\n",
            "0.0022648570826277136\n"
          ]
        },
        {
          "output_type": "stream",
          "name": "stderr",
          "text": [
            "\r100%|██████████| 50/50 [00:00<00:00, 56.63it/s]\n"
          ]
        },
        {
          "output_type": "stream",
          "name": "stdout",
          "text": [
            "0.002177301840856671\n"
          ]
        },
        {
          "output_type": "display_data",
          "data": {
            "text/plain": [
              "<Figure size 432x288 with 1 Axes>"
            ],
            "image/png": "[encoded data removed]"
          },
          "metadata": {
            "needs_background": "light"
          }
        },
        {
          "output_type": "display_data",
          "data": {
            "text/plain": [
              "<Figure size 432x288 with 1 Axes>"
            ],
            "image/png": "[encoded data removed]"
          },
          "metadata": {
            "needs_background": "light"
          }
        },
        {
          "output_type": "display_data",
          "data": {
            "text/plain": [
              "<Figure size 432x288 with 1 Axes>"
            ],
            "image/png": "[encoded data removed]"
          },
          "metadata": {
            "needs_background": "light"
          }
        },
        {
          "output_type": "display_data",
          "data": {
            "text/plain": [
              "<Figure size 432x288 with 1 Axes>"
            ],
            "image/png": "[encoded data removed]"
          },
          "metadata": {
            "needs_background": "light"
          }
        },
        {
          "output_type": "stream",
          "name": "stdout",
          "text": [
            "Average Number of Steps\n",
            "Through Predictor:3.508\n",
            "Through Binary Search:4.8406\n"
          ]
        }
      ]
    },
    {
      "cell_type": "markdown",
      "source": [
        "#Exponential\n"
      ],
      "metadata": {
        "id": "DDvQsrMsY33y"
      }
    },
    {
      "cell_type": "code",
      "source": [
        "net=Net_NHL()\n",
        "net.to('cuda')\n",
        "\n",
        "train_input,train_ans=generate_dataset(training_examples,n,_type='exponential')\n",
        "cv_input,cv_ans=generate_dataset(cv_examples,n,_type='exponential')\n",
        "train_dataset(net,train_input,train_ans,cv_input,cv_ans,training_examples,epochs=100)\n",
        "test_single_array(net,n,'exponential')\n",
        "\n",
        "np.random.seed(42)\n",
        "test_input,test_ans=generate_dataset(testing_examples,n,_type='exponential')\n",
        "out=predict(net,test_input,n)\n",
        "predictions_cnt,bs_cnt=get_predictions(test_input,n,testing_examples,out)\n",
        "d1,d2=generate_plots(predictions_cnt,bs_cnt)\n",
        "average_steps(d1,d2)"
      ],
      "metadata": {
        "colab": {
          "base_uri": "https://localhost:8080/",
          "height": 1000
        },
        "id": "R7Evqqk8Y3gN",
        "outputId": "35182617-0750-48b4-b9c3-d2c0d817ea5f"
      },
      "execution_count": 48,
      "outputs": [
        {
          "output_type": "stream",
          "name": "stderr",
          "text": [
            "  9%|▉         | 9/100 [00:00<00:01, 80.24it/s]"
          ]
        },
        {
          "output_type": "stream",
          "name": "stdout",
          "text": [
            "0.08625252172350883\n",
            "0.0718514509499073\n",
            "0.061019906774163246\n",
            "0.052202321216464044\n",
            "0.04506668113172054\n",
            "0.039324085041880605\n",
            "0.034701183810830115\n",
            "0.030988062918186187\n",
            "0.028034193255007268\n",
            "0.025720741786062717\n",
            "0.023939658515155317\n",
            "0.02259170524775982\n",
            "0.021589267440140246\n",
            "0.020856665819883345\n",
            "0.020330587401986122\n",
            "0.019959769770503046\n"
          ]
        },
        {
          "output_type": "stream",
          "name": "stderr",
          "text": [
            " 27%|██▋       | 27/100 [00:00<00:00, 79.59it/s]"
          ]
        },
        {
          "output_type": "stream",
          "name": "stdout",
          "text": [
            "0.019702835008502007\n",
            "0.01952800191938877\n",
            "0.01941092424094677\n",
            "0.0193337669596076\n",
            "0.019283554144203664\n",
            "0.01925122309476137\n",
            "0.019230502285063268\n",
            "0.0192172022536397\n",
            "0.0192085737362504\n",
            "0.019202851317822935\n",
            "0.019198938086628915\n",
            "0.01919616162776947\n",
            "0.019194124452769756\n",
            "0.019192598201334475\n",
            "0.01919145919382572\n",
            "0.019190644845366478\n",
            "0.01919013112783432\n",
            "0.019189914502203465\n"
          ]
        },
        {
          "output_type": "stream",
          "name": "stderr",
          "text": [
            " 45%|████▌     | 45/100 [00:00<00:00, 83.16it/s]"
          ]
        },
        {
          "output_type": "stream",
          "name": "stdout",
          "text": [
            "0.019190002419054508\n",
            "0.01919041257351637\n",
            "0.019191158190369605\n",
            "0.019192253425717353\n",
            "0.01919370163232088\n",
            "0.019195494055747987\n",
            "0.019197601079940795\n",
            "0.019199970364570617\n",
            "0.019202523678541184\n",
            "0.01920515615493059\n",
            "0.019207741133868694\n",
            "0.019210142083466053\n",
            "0.019212226569652557\n",
            "0.01921387705951929\n",
            "0.019215002283453943\n",
            "0.0192155497148633\n",
            "0.01921549830585718\n",
            "0.01921485848724842\n"
          ]
        },
        {
          "output_type": "stream",
          "name": "stderr",
          "text": [
            " 64%|██████▍   | 64/100 [00:00<00:00, 85.93it/s]"
          ]
        },
        {
          "output_type": "stream",
          "name": "stdout",
          "text": [
            "0.019213664159178735\n",
            "0.019211962632834912\n",
            "0.019209809973835944\n",
            "0.019207265786826612\n",
            "0.019204390421509742\n",
            "0.019201247580349447\n",
            "0.01919790431857109\n",
            "0.019194431975483893\n",
            "0.019190907850861548\n",
            "0.019187416508793832\n",
            "0.01918404009193182\n",
            "0.019180857576429844\n",
            "0.019177932105958462\n",
            "0.019175305403769015\n",
            "0.019172991253435613\n",
            "0.019170975685119628\n",
            "0.019169227965176106\n",
            "0.01916770599782467\n"
          ]
        },
        {
          "output_type": "stream",
          "name": "stderr",
          "text": [
            " 82%|████████▏ | 82/100 [00:00<00:00, 83.15it/s]"
          ]
        },
        {
          "output_type": "stream",
          "name": "stdout",
          "text": [
            "0.01916637010872364\n",
            "0.019165189936757088\n",
            "0.01916414126753807\n",
            "0.019163207709789278\n",
            "0.01916237398982048\n",
            "0.019161623530089857\n",
            "0.01916094683110714\n",
            "0.019160334207117557\n",
            "0.019159776158630848\n",
            "0.01915926709771156\n",
            "0.019158799946308137\n",
            "0.01915837116539478\n",
            "0.019157977029681205\n",
            "0.01915761213749647\n",
            "0.019157274812459945\n",
            "0.01915696170181036\n",
            "0.01915667112916708\n"
          ]
        },
        {
          "output_type": "stream",
          "name": "stderr",
          "text": [
            "100%|██████████| 100/100 [00:01<00:00, 81.87it/s]"
          ]
        },
        {
          "output_type": "stream",
          "name": "stdout",
          "text": [
            "0.019156400486826895\n",
            "0.01915614977478981\n",
            "0.019155915826559067\n",
            "0.01915569733828306\n",
            "0.019155493192374706\n",
            "0.019155303947627544\n",
            "0.019155127555131914\n",
            "0.01915496326982975\n",
            "0.019154810719192027\n",
            "0.01915466897189617\n",
            "0.019154538214206696\n",
            "0.01915441807359457\n",
            "0.019154307059943677\n"
          ]
        },
        {
          "output_type": "stream",
          "name": "stderr",
          "text": [
            "\n"
          ]
        },
        {
          "output_type": "display_data",
          "data": {
            "text/plain": [
              "<Figure size 432x288 with 1 Axes>"
            ],
            "image/png": "[encoded data removed]"
          },
          "metadata": {
            "needs_background": "light"
          }
        },
        {
          "output_type": "display_data",
          "data": {
            "text/plain": [
              "<Figure size 432x288 with 1 Axes>"
            ],
            "image/png": "[encoded data removed]"
          },
          "metadata": {
            "needs_background": "light"
          }
        },
        {
          "output_type": "display_data",
          "data": {
            "text/plain": [
              "<Figure size 432x288 with 1 Axes>"
            ],
            "image/png": "[encoded data removed]"
          },
          "metadata": {
            "needs_background": "light"
          }
        },
        {
          "output_type": "display_data",
          "data": {
            "text/plain": [
              "<Figure size 432x288 with 1 Axes>"
            ],
            "image/png": "[encoded data removed]"
          },
          "metadata": {
            "needs_background": "light"
          }
        },
        {
          "output_type": "stream",
          "name": "stdout",
          "text": [
            "Average Number of Steps\n",
            "Through Predictor:5.4792\n",
            "Through Binary Search:4.868\n"
          ]
        }
      ]
    },
    {
      "cell_type": "code",
      "source": [
        "net_1=Net_1HL()\n",
        "net_1.to('cuda')\n",
        "\n",
        "train_input,train_ans=generate_dataset(training_examples,n,_type='exponential')\n",
        "cv_input,cv_ans=generate_dataset(cv_examples,n,_type='exponential')\n",
        "train_dataset(net_1,train_input,train_ans,cv_input,cv_ans,training_examples,epochs=1000)\n",
        "test_single_array(net_1,n,'exponential')\n",
        "\n",
        "np.random.seed(42)\n",
        "test_input,test_ans=generate_dataset(testing_examples,n,_type='exponential')\n",
        "out=predict(net_1,test_input,n)\n",
        "predictions_cnt,bs_cnt=get_predictions(test_input,n,testing_examples,out)\n",
        "d1,d2=generate_plots(predictions_cnt,bs_cnt)\n",
        "average_steps(d1,d2)"
      ],
      "metadata": {
        "colab": {
          "base_uri": "https://localhost:8080/",
          "height": 1000
        },
        "id": "S90TUAQmYcwP",
        "outputId": "19971b80-9a4c-4f13-d95a-fede624d277f"
      },
      "execution_count": 49,
      "outputs": [
        {
          "output_type": "stream",
          "name": "stderr",
          "text": [
            "  1%|          | 7/1000 [00:00<00:16, 61.06it/s]"
          ]
        },
        {
          "output_type": "stream",
          "name": "stdout",
          "text": [
            "0.10925146117806435\n",
            "0.07997467666864395\n",
            "0.06799273043870926\n",
            "0.05515387170016765\n",
            "0.04048324562609196\n",
            "0.026980695314705372\n",
            "0.020558925718069075\n",
            "0.019949682429432868\n",
            "0.019822030887007715\n",
            "0.019526860490441323\n",
            "0.019405359402298927\n",
            "0.01897021885961294\n",
            "0.018248618952929972\n"
          ]
        },
        {
          "output_type": "stream",
          "name": "stderr",
          "text": [
            "  2%|▏         | 21/1000 [00:00<00:16, 60.52it/s]"
          ]
        },
        {
          "output_type": "stream",
          "name": "stdout",
          "text": [
            "0.017774809338152408\n",
            "0.01735036578029394\n",
            "0.016887889616191386\n",
            "0.016360904648900033\n",
            "0.01574499048292637\n",
            "0.015039426553994418\n",
            "0.014238848257809878\n",
            "0.013343666307628154\n",
            "0.012362781446427107\n",
            "0.011327787954360246\n",
            "0.010290555190294981\n",
            "0.00929012056440115\n",
            "0.00833336184732616\n"
          ]
        },
        {
          "output_type": "stream",
          "name": "stderr",
          "text": [
            "  3%|▎         | 34/1000 [00:00<00:16, 58.98it/s]"
          ]
        },
        {
          "output_type": "stream",
          "name": "stdout",
          "text": [
            "0.007441770099103451\n",
            "0.006642981851473451\n",
            "0.005946496268734336\n",
            "0.005355755146592855\n",
            "0.004868008010089397\n",
            "0.004475955804809928\n",
            "0.004170847125351429\n",
            "0.003938096412457526\n",
            "0.0037681121146306397\n",
            "0.003641238156706095\n",
            "0.003543216874822974\n",
            "0.0034726130310446025\n"
          ]
        },
        {
          "output_type": "stream",
          "name": "stderr",
          "text": [
            "  5%|▍         | 46/1000 [00:00<00:16, 58.15it/s]"
          ]
        },
        {
          "output_type": "stream",
          "name": "stdout",
          "text": [
            "0.0034239011583849788\n",
            "0.0033871396910399197\n",
            "0.0033546023070812224\n",
            "0.0033250903943553567\n",
            "0.003299188893288374\n",
            "0.0032765321899205445\n",
            "0.003261051489971578\n",
            "0.0032497200882062316\n",
            "0.003240212611854076\n",
            "0.003235194110311568\n",
            "0.0032312386902049184\n",
            "0.0032300503924489023\n"
          ]
        },
        {
          "output_type": "stream",
          "name": "stderr",
          "text": [
            "  6%|▌         | 58/1000 [00:01<00:17, 55.05it/s]"
          ]
        },
        {
          "output_type": "stream",
          "name": "stdout",
          "text": [
            "0.0032289767637848853\n",
            "0.0032279783859848975\n",
            "0.003226945735514164\n",
            "0.0032265154412016274\n",
            "0.00322625027038157\n",
            "0.003226383565925062\n",
            "0.003226312040351331\n",
            "0.0032255078200250863\n",
            "0.0032245671609416604\n",
            "0.003223710064776242\n",
            "0.003222583653405309\n"
          ]
        },
        {
          "output_type": "stream",
          "name": "stderr",
          "text": [
            "  7%|▋         | 70/1000 [00:01<00:16, 55.54it/s]"
          ]
        },
        {
          "output_type": "stream",
          "name": "stdout",
          "text": [
            "0.0032214940991252662\n",
            "0.003220186778344214\n",
            "0.0032191317062824965\n",
            "0.0032180842943489553\n",
            "0.003217744664289057\n",
            "0.00321755507029593\n",
            "0.0032171185361221434\n",
            "0.00321695520542562\n",
            "0.003217378235422075\n",
            "0.0032170488964766266\n",
            "0.0032172974664717914\n",
            "0.0032175905769690873\n"
          ]
        },
        {
          "output_type": "stream",
          "name": "stderr",
          "text": [
            "  8%|▊         | 82/1000 [00:01<00:16, 56.58it/s]"
          ]
        },
        {
          "output_type": "stream",
          "name": "stdout",
          "text": [
            "0.003217670344747603\n",
            "0.0032176174223423003\n",
            "0.003217791975475848\n",
            "0.003218184853903949\n",
            "0.0032182131661102177\n",
            "0.0032180216396227477\n",
            "0.003217482566833496\n",
            "0.0032168688019737603\n",
            "0.0032161219976842405\n",
            "0.0032150993356481194\n",
            "0.0032140132039785384\n",
            "0.0032119358191266658\n"
          ]
        },
        {
          "output_type": "stream",
          "name": "stderr",
          "text": [
            "  9%|▉         | 94/1000 [00:01<00:15, 57.05it/s]"
          ]
        },
        {
          "output_type": "stream",
          "name": "stdout",
          "text": [
            "0.0032021777704358103\n",
            "0.003186263842508197\n",
            "0.003180692857131362\n",
            "0.0031764479586854576\n",
            "0.0031730700982734563\n",
            "0.0031711622374132275\n",
            "0.003169961040839553\n",
            "0.0031695357291027905\n",
            "0.0031694632954895495\n",
            "0.0031698331702500583\n",
            "0.003171766735613346\n",
            "0.0031726917950436473\n"
          ]
        },
        {
          "output_type": "stream",
          "name": "stderr",
          "text": [
            " 11%|█         | 106/1000 [00:01<00:15, 57.80it/s]"
          ]
        },
        {
          "output_type": "stream",
          "name": "stdout",
          "text": [
            "0.0031721926294267177\n",
            "0.003170175990089774\n",
            "0.0031666835071519016\n",
            "0.003163934964686632\n",
            "0.0031618149252608417\n",
            "0.0031591613311320542\n",
            "0.0031561809591948986\n",
            "0.0031529379077255724\n",
            "0.003151352587155998\n",
            "0.0031498435884714125\n",
            "0.003148764045909047\n",
            "0.0031477181240916253\n"
          ]
        },
        {
          "output_type": "stream",
          "name": "stderr",
          "text": [
            " 12%|█▏        | 118/1000 [00:02<00:15, 56.93it/s]"
          ]
        },
        {
          "output_type": "stream",
          "name": "stdout",
          "text": [
            "0.0031452040653675794\n",
            "0.003141714446246624\n",
            "0.003140133386477828\n",
            "0.0031391893047839404\n",
            "0.0031368052354082466\n",
            "0.0031348355580121277\n",
            "0.0031327057629823686\n",
            "0.0031317604007199407\n",
            "0.0031317339278757574\n",
            "0.003131079231388867\n",
            "0.0031308381352573634\n",
            "0.0031305657466873527\n"
          ]
        },
        {
          "output_type": "stream",
          "name": "stderr",
          "text": [
            " 13%|█▎        | 131/1000 [00:02<00:14, 58.95it/s]"
          ]
        },
        {
          "output_type": "stream",
          "name": "stdout",
          "text": [
            "0.003129104827530682\n",
            "0.003127475455403328\n",
            "0.0031267862766981127\n",
            "0.003125942009501159\n",
            "0.0031249373685568573\n",
            "0.0031237052520737053\n",
            "0.0031230174237862228\n",
            "0.00312236116733402\n",
            "0.003121400740928948\n",
            "0.003120952821336687\n",
            "0.0031203347723931076\n",
            "0.0031191431218758224\n",
            "0.0031174927251413466\n"
          ]
        },
        {
          "output_type": "stream",
          "name": "stderr",
          "text": [
            " 14%|█▍        | 144/1000 [00:02<00:14, 59.95it/s]"
          ]
        },
        {
          "output_type": "stream",
          "name": "stdout",
          "text": [
            "0.0031165446853265166\n",
            "0.003115791454911232\n",
            "0.0031147397588938476\n",
            "0.0031141618033871054\n",
            "0.003113836538977921\n",
            "0.0031136373290792108\n",
            "0.0031139347469434143\n",
            "0.0031139347469434143\n",
            "0.0031131716212257745\n",
            "0.003112797113135457\n",
            "0.0031127695227041842\n",
            "0.003112675785087049\n",
            "0.003112056967802346\n"
          ]
        },
        {
          "output_type": "stream",
          "name": "stderr",
          "text": [
            " 16%|█▌        | 156/1000 [00:02<00:14, 58.27it/s]"
          ]
        },
        {
          "output_type": "stream",
          "name": "stdout",
          "text": [
            "0.003111012396402657\n",
            "0.003109384374693036\n",
            "0.0031082745874300597\n",
            "0.0031076962593942882\n",
            "0.003106748848222196\n",
            "0.003106260788626969\n",
            "0.003105454542674124\n",
            "0.0031044209375977517\n",
            "0.0031045809388160705\n",
            "0.0031045682029798628\n",
            "0.003104532160796225\n",
            "0.0031047014985233546\n"
          ]
        },
        {
          "output_type": "stream",
          "name": "stderr",
          "text": [
            " 17%|█▋        | 169/1000 [00:02<00:14, 58.98it/s]"
          ]
        },
        {
          "output_type": "stream",
          "name": "stdout",
          "text": [
            "0.003104931744746864\n",
            "0.003104858403094113\n",
            "0.003104596072807908\n",
            "0.0031042909249663353\n",
            "0.0031040797010064127\n",
            "0.0031028009252622724\n",
            "0.003101999405771494\n",
            "0.0031014157459139822\n",
            "0.003100727475248277\n",
            "0.0031001049326732756\n",
            "0.0030997677240520716\n",
            "0.0030999677255749702\n",
            "0.003100249380804598\n"
          ]
        },
        {
          "output_type": "stream",
          "name": "stderr",
          "text": [
            " 18%|█▊        | 182/1000 [00:03<00:14, 58.23it/s]"
          ]
        },
        {
          "output_type": "stream",
          "name": "stdout",
          "text": [
            "0.003100693505257368\n",
            "0.003100804891437292\n",
            "0.003100927616469562\n",
            "0.0031008484540507196\n",
            "0.0031008261255919935\n",
            "0.00309990297537297\n",
            "0.003099338454194367\n",
            "0.003098717704415321\n",
            "0.003098495723679662\n",
            "0.003098350134678185\n",
            "0.00309791611507535\n",
            "0.0030977140180766583\n"
          ]
        },
        {
          "output_type": "stream",
          "name": "stderr",
          "text": [
            " 19%|█▉        | 194/1000 [00:03<00:14, 57.55it/s]"
          ]
        },
        {
          "output_type": "stream",
          "name": "stdout",
          "text": [
            "0.003097350453026593\n",
            "0.0030972064239904286\n",
            "0.0030969952465966346\n",
            "0.003096838318742812\n",
            "0.003096714988350868\n",
            "0.003096353798173368\n",
            "0.003096084180288017\n",
            "0.0030958955641835926\n",
            "0.0030958561459556223\n",
            "0.003095669043250382\n",
            "0.003095491579733789\n",
            "0.003094612341374159\n"
          ]
        },
        {
          "output_type": "stream",
          "name": "stderr",
          "text": [
            " 21%|██        | 207/1000 [00:03<00:13, 59.48it/s]"
          ]
        },
        {
          "output_type": "stream",
          "name": "stdout",
          "text": [
            "0.003094305214472115\n",
            "0.0030941445846110584\n",
            "0.0030939660500735044\n",
            "0.0030938827199861406\n",
            "0.0030938293784856796\n",
            "0.0030937930569052696\n",
            "0.00309370681643486\n",
            "0.003093670168891549\n",
            "0.0030935905873775483\n",
            "0.003093597711995244\n",
            "0.003093444090336561\n",
            "0.0030931367771700026\n",
            "0.003093045298010111\n"
          ]
        },
        {
          "output_type": "stream",
          "name": "stderr",
          "text": [
            " 22%|██▏       | 220/1000 [00:03<00:13, 59.58it/s]"
          ]
        },
        {
          "output_type": "stream",
          "name": "stdout",
          "text": [
            "0.003092752327211201\n",
            "0.0030926345381885765\n",
            "0.0030925630126148462\n",
            "0.0030926448293030263\n",
            "0.0030923981918022036\n",
            "0.0030923439422622322\n",
            "0.0030921167694032193\n",
            "0.0030920452205464243\n",
            "0.003091766987927258\n",
            "0.003091538092121482\n",
            "0.003090983210131526\n",
            "0.00309067377820611\n",
            "0.003090328141115606\n"
          ]
        },
        {
          "output_type": "stream",
          "name": "stderr",
          "text": [
            " 23%|██▎       | 233/1000 [00:04<00:13, 58.23it/s]"
          ]
        },
        {
          "output_type": "stream",
          "name": "stdout",
          "text": [
            "0.003089575539343059\n",
            "0.003088535857386887\n",
            "0.003086509625427425\n",
            "0.0030777784064412116\n",
            "0.00305099890101701\n",
            "0.0030356937320902945\n",
            "0.0030261493986472486\n",
            "0.003016972984187305\n",
            "0.0030085267964750527\n",
            "0.0030005496926605703\n",
            "0.0029932976700365542\n",
            "0.002988326968625188\n"
          ]
        },
        {
          "output_type": "stream",
          "name": "stderr",
          "text": [
            " 24%|██▍       | 245/1000 [00:04<00:13, 55.83it/s]"
          ]
        },
        {
          "output_type": "stream",
          "name": "stdout",
          "text": [
            "0.0029853338375687597\n",
            "0.002982946764677763\n",
            "0.002980622719042003\n",
            "0.0029779978329315783\n",
            "0.0029752306640148164\n",
            "0.002972501260228455\n",
            "0.0029697423335164784\n",
            "0.00296617413405329\n",
            "0.002961182314902544\n",
            "0.0029572751140221954\n",
            "0.002953797369264066\n"
          ]
        },
        {
          "output_type": "stream",
          "name": "stderr",
          "text": [
            " 26%|██▌       | 258/1000 [00:04<00:12, 57.97it/s]"
          ]
        },
        {
          "output_type": "stream",
          "name": "stdout",
          "text": [
            "0.0029491074848920105\n",
            "0.0029446364846080542\n",
            "0.002940258150920272\n",
            "0.0029357254039496183\n",
            "0.0029322730377316477\n",
            "0.002929076668806374\n",
            "0.0029245030134916307\n",
            "0.002919733477756381\n",
            "0.002915121801197529\n",
            "0.002910489309579134\n",
            "0.0029049731558188794\n",
            "0.002899823151528835\n",
            "0.0028957417234778404\n",
            "0.0028913311660289766\n"
          ]
        },
        {
          "output_type": "stream",
          "name": "stderr",
          "text": [
            " 27%|██▋       | 270/1000 [00:04<00:12, 58.40it/s]"
          ]
        },
        {
          "output_type": "stream",
          "name": "stdout",
          "text": [
            "0.0028869309462606907\n",
            "0.00288401423022151\n",
            "0.002881338098086417\n",
            "0.002877084445208311\n",
            "0.0028715140419080854\n",
            "0.0028673326130956413\n",
            "0.002862179698422551\n",
            "0.0028547763358801603\n",
            "0.0028477776097133754\n",
            "0.002841618098318577\n",
            "0.002834843751043081\n",
            "0.002828512364067137\n"
          ]
        },
        {
          "output_type": "stream",
          "name": "stderr",
          "text": [
            " 28%|██▊       | 282/1000 [00:04<00:12, 58.07it/s]"
          ]
        },
        {
          "output_type": "stream",
          "name": "stdout",
          "text": [
            "0.0028201212408021092\n",
            "0.002811266528442502\n",
            "0.0028018105309456586\n",
            "0.0027919327607378364\n",
            "0.0027820827439427377\n",
            "0.0027717655058950184\n",
            "0.0027617345796898006\n",
            "0.0027531174244359137\n",
            "0.002746031596325338\n",
            "0.00273946956731379\n",
            "0.0027349986834451557\n",
            "0.0027314362581819297\n"
          ]
        },
        {
          "output_type": "stream",
          "name": "stderr",
          "text": [
            " 29%|██▉       | 294/1000 [00:05<00:12, 56.67it/s]"
          ]
        },
        {
          "output_type": "stream",
          "name": "stdout",
          "text": [
            "0.002727329428307712\n",
            "0.0027228230610489845\n",
            "0.0027189538581296802\n",
            "0.0027155714808031915\n",
            "0.0027122747153043745\n",
            "0.0027086297050118446\n",
            "0.0027053831843659283\n",
            "0.002702772500924766\n",
            "0.0026998644694685935\n",
            "0.0026973493630066516\n",
            "0.002694857004098594\n",
            "0.0026930061401799323\n"
          ]
        },
        {
          "output_type": "stream",
          "name": "stderr",
          "text": [
            " 31%|███       | 307/1000 [00:05<00:11, 58.24it/s]"
          ]
        },
        {
          "output_type": "stream",
          "name": "stdout",
          "text": [
            "0.002691670507192612\n",
            "0.0026905526407063006\n",
            "0.0026899043703451754\n",
            "0.0026894753566011785\n",
            "0.002689885930158198\n",
            "0.0026905097998678683\n",
            "0.0026924748439341784\n",
            "0.0026930060004815458\n",
            "0.0026949891820549966\n",
            "0.00269806117285043\n",
            "0.00269965915940702\n",
            "0.002700324775651097\n"
          ]
        },
        {
          "output_type": "stream",
          "name": "stderr",
          "text": [
            " 32%|███▏      | 320/1000 [00:05<00:11, 58.56it/s]"
          ]
        },
        {
          "output_type": "stream",
          "name": "stdout",
          "text": [
            "0.002697692858055234\n",
            "0.0026947532314807177\n",
            "0.0026915087597444653\n",
            "0.0026903651654720307\n",
            "0.002688557864166796\n",
            "0.002687015593983233\n",
            "0.002685985923744738\n",
            "0.002685430576093495\n",
            "0.0026844827458262443\n",
            "0.002684275107458234\n",
            "0.0026829555397853257\n",
            "0.0026809381786733867\n",
            "0.00267989810090512\n"
          ]
        },
        {
          "output_type": "stream",
          "name": "stderr",
          "text": [
            " 33%|███▎      | 332/1000 [00:05<00:11, 58.17it/s]"
          ]
        },
        {
          "output_type": "stream",
          "name": "stdout",
          "text": [
            "0.0026791816111654044\n",
            "0.0026773015037178994\n",
            "0.0026746224844828247\n",
            "0.002670951117761433\n",
            "0.002669992041774094\n",
            "0.0026698575587943197\n",
            "0.0026686005294322968\n",
            "0.0026680410606786608\n",
            "0.002667530789040029\n",
            "0.0026639870135113596\n",
            "0.0026598517550155522\n",
            "0.0026571444468572736\n"
          ]
        },
        {
          "output_type": "stream",
          "name": "stderr",
          "text": [
            " 34%|███▍      | 344/1000 [00:05<00:11, 57.94it/s]"
          ]
        },
        {
          "output_type": "stream",
          "name": "stdout",
          "text": [
            "0.0026556490221992133\n",
            "0.0026565533597022297\n",
            "0.0026591331232339145\n",
            "0.0026594389928504825\n",
            "0.00265779085457325\n",
            "0.002654281887225807\n",
            "0.0026507509406656026\n",
            "0.0026491925353184344\n",
            "0.002648306265473366\n",
            "0.002647673198953271\n",
            "0.002645527315326035\n",
            "0.0026443224167451264\n"
          ]
        },
        {
          "output_type": "stream",
          "name": "stderr",
          "text": [
            " 36%|███▌      | 356/1000 [00:06<00:11, 56.15it/s]"
          ]
        },
        {
          "output_type": "stream",
          "name": "stdout",
          "text": [
            "0.002643154188990593\n",
            "0.002641801768913865\n",
            "0.002639579609967768\n",
            "0.002637969935312867\n",
            "0.002637839037925005\n",
            "0.0026370296953246\n",
            "0.0026361218886449935\n",
            "0.002635845844633877\n",
            "0.002635893877595663\n",
            "0.0026356474496424197\n",
            "0.0026349055813625457\n",
            "0.00263303816318512\n"
          ]
        },
        {
          "output_type": "stream",
          "name": "stderr",
          "text": [
            "\r 36%|███▌      | 362/1000 [00:06<00:11, 55.14it/s]"
          ]
        },
        {
          "output_type": "stream",
          "name": "stdout",
          "text": [
            "0.002630839846096933\n",
            "0.0026292889611795544\n",
            "0.0026277010329067707\n",
            "0.0026256612967699767\n",
            "0.0026232210220769048\n",
            "0.002622535591945052\n",
            "0.0026226540561765433\n",
            "0.0026232976699247955\n",
            "0.0026245244778692724\n",
            "0.0026235904078930616\n",
            "0.0026205885224044323\n",
            "0.002618204103782773\n"
          ]
        },
        {
          "output_type": "stream",
          "name": "stderr",
          "text": [
            " 38%|███▊      | 375/1000 [00:06<00:10, 57.25it/s]"
          ]
        },
        {
          "output_type": "stream",
          "name": "stdout",
          "text": [
            "0.0026159069268032907\n",
            "0.002615270693786442\n",
            "0.0026144744828343392\n",
            "0.002615247992798686\n",
            "0.002615536726079881\n",
            "0.0026146256597712634\n",
            "0.0026133019709959626\n",
            "0.002611362957395613\n",
            "0.0026095414534211157\n",
            "0.002609185082837939\n",
            "0.002608827501535416\n",
            "0.002607065881602466\n"
          ]
        },
        {
          "output_type": "stream",
          "name": "stderr",
          "text": [
            " 39%|███▊      | 387/1000 [00:06<00:11, 55.72it/s]"
          ]
        },
        {
          "output_type": "stream",
          "name": "stdout",
          "text": [
            "0.002605159510858357\n",
            "0.0026033830363303423\n",
            "0.0026019092183560133\n",
            "0.0026007866486907004\n",
            "0.0025999890640378\n",
            "0.0025984890293329955\n",
            "0.0025985305896028877\n",
            "0.0025984609965234995\n",
            "0.0025984979001805186\n",
            "0.0025968882255256176\n",
            "0.002594024734571576\n"
          ]
        },
        {
          "output_type": "stream",
          "name": "stderr",
          "text": [
            " 40%|███▉      | 399/1000 [00:06<00:10, 55.67it/s]"
          ]
        },
        {
          "output_type": "stream",
          "name": "stdout",
          "text": [
            "0.002592482091858983\n",
            "0.00259147216565907\n",
            "0.0025915073463693263\n",
            "0.0025915206875652074\n",
            "0.002591011906042695\n",
            "0.0025897294515743853\n",
            "0.0025895644212141633\n",
            "0.002590161608532071\n",
            "0.002591025340370834\n",
            "0.0025913578225299715\n",
            "0.002589194104075432\n",
            "0.0025879191467538475\n"
          ]
        },
        {
          "output_type": "stream",
          "name": "stderr",
          "text": [
            " 41%|████      | 411/1000 [00:07<00:10, 54.50it/s]"
          ]
        },
        {
          "output_type": "stream",
          "name": "stdout",
          "text": [
            "0.0025860173627734184\n",
            "0.0025846270844340326\n",
            "0.0025823333533480765\n",
            "0.0025812922744080425\n",
            "0.0025814712746068834\n",
            "0.0025811393512412905\n",
            "0.002581284544430673\n",
            "0.0025811037747189404\n",
            "0.002579688862897456\n",
            "0.0025785756995901467\n",
            "0.0025768975261598825\n"
          ]
        },
        {
          "output_type": "stream",
          "name": "stderr",
          "text": [
            " 42%|████▏     | 424/1000 [00:07<00:10, 56.41it/s]"
          ]
        },
        {
          "output_type": "stream",
          "name": "stdout",
          "text": [
            "0.0025747981388121845\n",
            "0.002573878224939108\n",
            "0.0025738372700288893\n",
            "0.0025737745221704245\n",
            "0.002573021501302719\n",
            "0.0025724752573296427\n",
            "0.0025728091830387713\n",
            "0.002572012972086668\n",
            "0.002569482964463532\n",
            "0.0025677178986370564\n",
            "0.0025661387713626026\n",
            "0.0025657338090240957\n",
            "0.002566213323734701\n",
            "0.002567601390182972\n"
          ]
        },
        {
          "output_type": "stream",
          "name": "stderr",
          "text": [
            " 44%|████▎     | 436/1000 [00:07<00:09, 57.18it/s]"
          ]
        },
        {
          "output_type": "stream",
          "name": "stdout",
          "text": [
            "0.0025689684320241214\n",
            "0.002568898140452802\n",
            "0.002567621017806232\n",
            "0.0025659918319433928\n",
            "0.0025648665614426136\n",
            "0.002563868369907141\n",
            "0.0025623975321650504\n",
            "0.002561165136285126\n",
            "0.002559799421578646\n",
            "0.002559297694824636\n",
            "0.0025588281219825148\n",
            "0.0025581388734281065\n"
          ]
        },
        {
          "output_type": "stream",
          "name": "stderr",
          "text": [
            " 45%|████▍     | 448/1000 [00:07<00:09, 56.32it/s]"
          ]
        },
        {
          "output_type": "stream",
          "name": "stdout",
          "text": [
            "0.0025571152102202175\n",
            "0.002556774369440973\n",
            "0.00255691553466022\n",
            "0.002556621003895998\n",
            "0.002557470090687275\n",
            "0.0025580787099897862\n",
            "0.002557964459992945\n",
            "0.0025566185591742395\n",
            "0.002554458240047097\n",
            "0.002552279573865235\n",
            "0.002550906105898321\n",
            "0.0025498308939859273\n"
          ]
        },
        {
          "output_type": "stream",
          "name": "stderr",
          "text": [
            " 46%|████▌     | 460/1000 [00:08<00:09, 56.10it/s]"
          ]
        },
        {
          "output_type": "stream",
          "name": "stdout",
          "text": [
            "0.002551905205473304\n",
            "0.0025551357306540013\n",
            "0.00255772965028882\n",
            "0.0025575279956683516\n",
            "0.0025538785848766565\n",
            "0.002550044422969222\n",
            "0.002547579747624695\n",
            "0.0025464231846854092\n",
            "0.0025470647029578685\n",
            "0.00254864280577749\n",
            "0.002550524123944342\n",
            "0.0025517150992527605\n"
          ]
        },
        {
          "output_type": "stream",
          "name": "stderr",
          "text": [
            " 47%|████▋     | 472/1000 [00:08<00:09, 55.42it/s]"
          ]
        },
        {
          "output_type": "stream",
          "name": "stdout",
          "text": [
            "0.0025525034172460435\n",
            "0.0025520842289552094\n",
            "0.0025500312214717267\n",
            "0.0025477260584011673\n",
            "0.0025449092499911785\n",
            "0.002543295454233885\n",
            "0.002543898904696107\n",
            "0.002544237463735044\n",
            "0.0025448634754866362\n",
            "0.002546192775480449\n",
            "0.0025489026913419364\n",
            "0.0025502983713522553\n"
          ]
        },
        {
          "output_type": "stream",
          "name": "stderr",
          "text": [
            " 48%|████▊     | 485/1000 [00:08<00:09, 57.09it/s]"
          ]
        },
        {
          "output_type": "stream",
          "name": "stdout",
          "text": [
            "0.002549559669569135\n",
            "0.002545445179566741\n",
            "0.0025408271932974456\n",
            "0.002538606896996498\n",
            "0.002538590133190155\n",
            "0.0025390540948137643\n",
            "0.0025404247222468256\n",
            "0.0025426690233871342\n",
            "0.0025436504278331996\n",
            "0.0025446033803746106\n",
            "0.002544207684695721\n",
            "0.0025435805320739744\n"
          ]
        },
        {
          "output_type": "stream",
          "name": "stderr",
          "text": [
            " 50%|████▉     | 497/1000 [00:08<00:08, 57.25it/s]"
          ]
        },
        {
          "output_type": "stream",
          "name": "stdout",
          "text": [
            "0.002543288143351674\n",
            "0.002543621580116451\n",
            "0.0025425665080547333\n",
            "0.0025401189224794505\n",
            "0.002538047218695283\n",
            "0.002537655783817172\n",
            "0.0025378370890393855\n",
            "0.0025388125330209734\n",
            "0.0025390742346644403\n",
            "0.0025393509306013582\n",
            "0.002539472095668316\n",
            "0.0025394127937033773\n"
          ]
        },
        {
          "output_type": "stream",
          "name": "stderr",
          "text": [
            " 51%|█████     | 509/1000 [00:08<00:08, 57.04it/s]"
          ]
        },
        {
          "output_type": "stream",
          "name": "stdout",
          "text": [
            "0.0025392901618033646\n",
            "0.00253757166210562\n",
            "0.0025362479267641903\n",
            "0.0025351523188874127\n",
            "0.0025349368108436464\n",
            "0.002534122532233596\n",
            "0.0025338289327919484\n",
            "0.0025348597671836616\n",
            "0.002535638678818941\n",
            "0.0025353968841955064\n",
            "0.0025349492440000176\n",
            "0.002534646634012461\n"
          ]
        },
        {
          "output_type": "stream",
          "name": "stderr",
          "text": [
            " 52%|█████▏    | 521/1000 [00:09<00:08, 56.98it/s]"
          ]
        },
        {
          "output_type": "stream",
          "name": "stdout",
          "text": [
            "0.0025343850953504442\n",
            "0.002535078837536275\n",
            "0.0025358865736052395\n",
            "0.0025354452198371293\n",
            "0.0025345539674162866\n",
            "0.0025338532635942102\n",
            "0.0025329004041850568\n",
            "0.002530867978930473\n",
            "0.0025301025249063968\n",
            "0.002530430699698627\n",
            "0.0025304814800620077\n"
          ]
        },
        {
          "output_type": "stream",
          "name": "stderr",
          "text": [
            " 53%|█████▎    | 533/1000 [00:09<00:08, 54.35it/s]"
          ]
        },
        {
          "output_type": "stream",
          "name": "stdout",
          "text": [
            "0.0025300386594608428\n",
            "0.0025299880420789123\n",
            "0.0025296178180724384\n",
            "0.0025294560473412275\n",
            "0.002529072226025164\n",
            "0.0025293358135968446\n",
            "0.002529248408973217\n",
            "0.0025294240796938537\n",
            "0.0025291974190622566\n",
            "0.0025291931815445423\n",
            "0.0025290733901783824\n",
            "0.0025288679637014864\n"
          ]
        },
        {
          "output_type": "stream",
          "name": "stderr",
          "text": [
            " 55%|█████▍    | 546/1000 [00:09<00:08, 56.15it/s]"
          ]
        },
        {
          "output_type": "stream",
          "name": "stdout",
          "text": [
            "0.00252796346321702\n",
            "0.0025273025035858153\n",
            "0.0025264725089073183\n",
            "0.00252603639382869\n",
            "0.002525911433622241\n",
            "0.002526292530819774\n",
            "0.0025269292062148454\n",
            "0.0025272884173318743\n",
            "0.002527361153624952\n",
            "0.0025271886494010686\n",
            "0.0025263364193961026\n",
            "0.0025241409428417684\n"
          ]
        },
        {
          "output_type": "stream",
          "name": "stderr",
          "text": [
            " 56%|█████▌    | 558/1000 [00:09<00:07, 56.76it/s]"
          ]
        },
        {
          "output_type": "stream",
          "name": "stdout",
          "text": [
            "0.002523009036667645\n",
            "0.0025227612815797327\n",
            "0.002522674249485135\n",
            "0.0025232137413695455\n",
            "0.0025236549321562053\n",
            "0.0025239443173632027\n",
            "0.002524263481609523\n",
            "0.002524294424802065\n",
            "0.0025242035742849113\n",
            "0.0025242167757824063\n",
            "0.0025241841562092305\n",
            "0.002523854305036366\n"
          ]
        },
        {
          "output_type": "stream",
          "name": "stderr",
          "text": [
            " 57%|█████▋    | 571/1000 [00:10<00:07, 57.73it/s]"
          ]
        },
        {
          "output_type": "stream",
          "name": "stdout",
          "text": [
            "0.0025232745800167324\n",
            "0.002522171335294843\n",
            "0.00252067893743515\n",
            "0.002519749663770199\n",
            "0.002519062696956098\n",
            "0.002519139414653182\n",
            "0.002519015735015273\n",
            "0.002519693342037499\n",
            "0.0025198498275130986\n",
            "0.002520330622792244\n",
            "0.0025206627789884804\n",
            "0.00252030617557466\n"
          ]
        },
        {
          "output_type": "stream",
          "name": "stderr",
          "text": [
            " 58%|█████▊    | 583/1000 [00:10<00:07, 55.93it/s]"
          ]
        },
        {
          "output_type": "stream",
          "name": "stdout",
          "text": [
            "0.002520933304913342\n",
            "0.0025214114459231494\n",
            "0.0025208866456523536\n",
            "0.0025200024945661427\n",
            "0.0025186964543536306\n",
            "0.002517417375929654\n",
            "0.0025166389299556614\n",
            "0.0025167017010971904\n",
            "0.002517109923064709\n",
            "0.0025187817402184008\n",
            "0.002519436599686742\n",
            "0.0025185653939843178\n"
          ]
        },
        {
          "output_type": "stream",
          "name": "stderr",
          "text": [
            " 60%|█████▉    | 596/1000 [00:10<00:07, 57.65it/s]"
          ]
        },
        {
          "output_type": "stream",
          "name": "stdout",
          "text": [
            "0.002517309901304543\n",
            "0.002516013616696\n",
            "0.0025140449637547136\n",
            "0.0025132164824754\n",
            "0.0025133253540843723\n",
            "0.002515000500716269\n",
            "0.002517411415465176\n",
            "0.0025194135261699556\n",
            "0.0025189728708937763\n",
            "0.0025166273815557362\n",
            "0.0025148427346721293\n",
            "0.002513110265135765\n",
            "0.002511791721917689\n"
          ]
        },
        {
          "output_type": "stream",
          "name": "stderr",
          "text": [
            " 61%|██████    | 608/1000 [00:10<00:06, 56.80it/s]"
          ]
        },
        {
          "output_type": "stream",
          "name": "stdout",
          "text": [
            "0.00251133400015533\n",
            "0.002512046042829752\n",
            "0.0025142321130260823\n",
            "0.002516089542768896\n",
            "0.002516925660893321\n",
            "0.002516730362549424\n",
            "0.002515179989859462\n",
            "0.0025128793669864534\n",
            "0.0025119652738794683\n",
            "0.0025118077639490364\n",
            "0.002512261178344488\n",
            "0.0025127229979261755\n"
          ]
        },
        {
          "output_type": "stream",
          "name": "stderr",
          "text": [
            " 62%|██████▏   | 620/1000 [00:10<00:06, 56.32it/s]"
          ]
        },
        {
          "output_type": "stream",
          "name": "stdout",
          "text": [
            "0.002513306913897395\n",
            "0.002512889844365418\n",
            "0.0025131998118013144\n",
            "0.002512597944587469\n",
            "0.0025115904165431855\n",
            "0.0025109055684879424\n",
            "0.002509882324375212\n",
            "0.002508569788187742\n",
            "0.002508391719311476\n",
            "0.0025095241144299507\n",
            "0.002511382568627596\n",
            "0.0025133016053587197\n"
          ]
        },
        {
          "output_type": "stream",
          "name": "stderr",
          "text": [
            " 63%|██████▎   | 632/1000 [00:11<00:06, 56.79it/s]"
          ]
        },
        {
          "output_type": "stream",
          "name": "stdout",
          "text": [
            "0.0025136089418083428\n",
            "0.0025126514956355095\n",
            "0.002510934043675661\n",
            "0.002509572310373187\n",
            "0.0025086554698646067\n",
            "0.002508668787777424\n",
            "0.0025091593153774737\n",
            "0.002509708306752145\n",
            "0.002510258904658258\n",
            "0.002510365564376116\n",
            "0.00250999687705189\n",
            "0.002509202901273966\n"
          ]
        },
        {
          "output_type": "stream",
          "name": "stderr",
          "text": [
            " 64%|██████▍   | 644/1000 [00:11<00:06, 56.27it/s]"
          ]
        },
        {
          "output_type": "stream",
          "name": "stdout",
          "text": [
            "0.0025079303188249467\n",
            "0.0025068909861147405\n",
            "0.002506829076446593\n",
            "0.0025065798545256257\n",
            "0.0025078957201913\n",
            "0.00250882925465703\n",
            "0.002509540505707264\n",
            "0.0025096770841628313\n",
            "0.0025093004340305926\n",
            "0.0025086598470807076\n",
            "0.0025074359960854053\n",
            "0.002507015853188932\n"
          ]
        },
        {
          "output_type": "stream",
          "name": "stderr",
          "text": [
            " 66%|██████▌   | 657/1000 [00:11<00:05, 57.90it/s]"
          ]
        },
        {
          "output_type": "stream",
          "name": "stdout",
          "text": [
            "0.002506226720288396\n",
            "0.002506142668426037\n",
            "0.0025058923522010444\n",
            "0.0025056379847228525\n",
            "0.002505811536684632\n",
            "0.0025061926804482936\n",
            "0.002506133308634162\n",
            "0.0025061697466298937\n",
            "0.002505954960361123\n",
            "0.0025058815954253078\n",
            "0.002504715183749795\n",
            "0.0025044143898412586\n",
            "0.0025037032552063464\n"
          ]
        },
        {
          "output_type": "stream",
          "name": "stderr",
          "text": [
            " 67%|██████▋   | 669/1000 [00:11<00:05, 56.84it/s]"
          ]
        },
        {
          "output_type": "stream",
          "name": "stdout",
          "text": [
            "0.0025031960569322107\n",
            "0.0025037528481334447\n",
            "0.002503527398221195\n",
            "0.002504477649927139\n",
            "0.002503630891442299\n",
            "0.0025047445204108955\n",
            "0.002504233387298882\n",
            "0.0025042932014912368\n",
            "0.0025035622296854854\n",
            "0.002502896427176893\n",
            "0.0025024154223501683\n",
            "0.0025024420348927377\n"
          ]
        },
        {
          "output_type": "stream",
          "name": "stderr",
          "text": [
            " 68%|██████▊   | 681/1000 [00:11<00:05, 56.96it/s]"
          ]
        },
        {
          "output_type": "stream",
          "name": "stdout",
          "text": [
            "0.00250256669241935\n",
            "0.002502732095308602\n",
            "0.0025027938187122344\n",
            "0.002502750325948\n",
            "0.0025027819676324723\n",
            "0.002503214683383703\n",
            "0.0025035044876858593\n",
            "0.002503113751299679\n",
            "0.002502838778309524\n",
            "0.002502593630924821\n",
            "0.0025022030575200917\n",
            "0.002501790737733245\n"
          ]
        },
        {
          "output_type": "stream",
          "name": "stderr",
          "text": [
            " 69%|██████▉   | 693/1000 [00:12<00:05, 57.79it/s]"
          ]
        },
        {
          "output_type": "stream",
          "name": "stdout",
          "text": [
            "0.0025008340831846\n",
            "0.0024999419692903757\n",
            "0.0024997785687446593\n",
            "0.0025000448804348707\n",
            "0.002500291704200208\n",
            "0.002500922232866287\n",
            "0.002501304796896875\n",
            "0.0025014543905854227\n",
            "0.0025010660756379366\n",
            "0.002500638994388282\n",
            "0.0025004400173202156\n",
            "0.00249996033962816\n"
          ]
        },
        {
          "output_type": "stream",
          "name": "stderr",
          "text": [
            "\r 70%|██████▉   | 699/1000 [00:12<00:05, 55.30it/s]"
          ]
        },
        {
          "output_type": "stream",
          "name": "stdout",
          "text": [
            "0.0024995762621983887\n",
            "0.0024998891167342663\n",
            "0.0024993980303406717\n",
            "0.002498437790200114\n",
            "0.0024987480603158472\n",
            "0.002498329570516944\n",
            "0.002498136111535132\n",
            "0.0024986062897369267\n",
            "0.0024986189091578126\n",
            "0.0024985915515571833\n",
            "0.00249841776676476\n",
            "0.002498845895752311\n"
          ]
        },
        {
          "output_type": "stream",
          "name": "stderr",
          "text": [
            " 72%|███████▏  | 718/1000 [00:12<00:04, 57.99it/s]"
          ]
        },
        {
          "output_type": "stream",
          "name": "stdout",
          "text": [
            "0.0024993852945044636\n",
            "0.0024998549604788424\n",
            "0.002500025928020477\n",
            "0.002500269445590675\n",
            "0.0024982299422845245\n",
            "0.0024981361581012606\n",
            "0.0024968963349238037\n",
            "0.0024966777535155417\n",
            "0.002496736613102257\n",
            "0.0024977406952530145\n",
            "0.0024990636156871915\n",
            "0.002499617263674736\n",
            "0.0024992035701870917\n"
          ]
        },
        {
          "output_type": "stream",
          "name": "stderr",
          "text": [
            " 73%|███████▎  | 730/1000 [00:12<00:04, 57.99it/s]"
          ]
        },
        {
          "output_type": "stream",
          "name": "stdout",
          "text": [
            "0.0024988767225295307\n",
            "0.002498189872130752\n",
            "0.0024967276491224765\n",
            "0.0024960291106253863\n",
            "0.002495551691390574\n",
            "0.0024953366722911597\n",
            "0.0024954534834250807\n",
            "0.002496183500625193\n",
            "0.002497118734754622\n",
            "0.002498163841664791\n",
            "0.002497910032980144\n",
            "0.002497455291450024\n"
          ]
        },
        {
          "output_type": "stream",
          "name": "stderr",
          "text": [
            " 74%|███████▍  | 742/1000 [00:13<00:04, 58.12it/s]"
          ]
        },
        {
          "output_type": "stream",
          "name": "stdout",
          "text": [
            "0.002496588509529829\n",
            "0.002496606530621648\n",
            "0.00249531336594373\n",
            "0.0024958525551483034\n",
            "0.0024950916646048426\n",
            "0.00249572794418782\n",
            "0.0024954962776973844\n",
            "0.0024962629191577434\n",
            "0.002494862931780517\n",
            "0.0024947037221863867\n",
            "0.0024948234902694823\n",
            "0.0024962173774838448\n"
          ]
        },
        {
          "output_type": "stream",
          "name": "stderr",
          "text": [
            " 75%|███████▌  | 754/1000 [00:13<00:04, 57.14it/s]"
          ]
        },
        {
          "output_type": "stream",
          "name": "stdout",
          "text": [
            "0.0024968589656054973\n",
            "0.0024965817807242273\n",
            "0.002495659654960036\n",
            "0.0024950909428298473\n",
            "0.0024949423037469386\n",
            "0.0024945955723524094\n",
            "0.002494949521496892\n",
            "0.002494734525680542\n",
            "0.002494387840852141\n",
            "0.002494306582957506\n",
            "0.0024942624382674693\n",
            "0.002494408981874585\n"
          ]
        },
        {
          "output_type": "stream",
          "name": "stderr",
          "text": [
            " 77%|███████▋  | 766/1000 [00:13<00:04, 56.70it/s]"
          ]
        },
        {
          "output_type": "stream",
          "name": "stdout",
          "text": [
            "0.002494232542812824\n",
            "0.0024944288656115533\n",
            "0.0024945275858044625\n",
            "0.0024942326359450816\n",
            "0.0024945487501099707\n",
            "0.0024941478855907916\n",
            "0.0024942029966041447\n",
            "0.002493933355435729\n",
            "0.002493116073310375\n",
            "0.0024930830346420406\n",
            "0.002493101661093533\n",
            "0.0024932443629950285\n"
          ]
        },
        {
          "output_type": "stream",
          "name": "stderr",
          "text": [
            " 78%|███████▊  | 778/1000 [00:13<00:03, 56.60it/s]"
          ]
        },
        {
          "output_type": "stream",
          "name": "stdout",
          "text": [
            "0.0024934173794463276\n",
            "0.002493469137698412\n",
            "0.002493540639989078\n",
            "0.0024936053203418853\n",
            "0.0024938366608694197\n",
            "0.002493918361142278\n",
            "0.002493708557449281\n",
            "0.002493492071516812\n",
            "0.002493083383888006\n",
            "0.002492950344458222\n",
            "0.00249275213573128\n",
            "0.0024921470088884235\n"
          ]
        },
        {
          "output_type": "stream",
          "name": "stderr",
          "text": [
            " 79%|███████▉  | 790/1000 [00:13<00:03, 55.59it/s]"
          ]
        },
        {
          "output_type": "stream",
          "name": "stdout",
          "text": [
            "0.0024916387628763914\n",
            "0.0024914446752518416\n",
            "0.0024918704992160203\n",
            "0.0024923737859353424\n",
            "0.0024925286648795008\n",
            "0.0024924590019509197\n",
            "0.0024929176550358536\n",
            "0.002492443355731666\n",
            "0.0024919323157519104\n",
            "0.0024915374116972087\n",
            "0.0024911576183512807\n",
            "0.002490703552030027\n"
          ]
        },
        {
          "output_type": "stream",
          "name": "stderr",
          "text": [
            " 80%|████████  | 802/1000 [00:14<00:03, 56.18it/s]"
          ]
        },
        {
          "output_type": "stream",
          "name": "stdout",
          "text": [
            "0.0024905983125790955\n",
            "0.0024903775891289117\n",
            "0.00248999607283622\n",
            "0.0024900627555325626\n",
            "0.002490971819497645\n",
            "0.0024916410446166994\n",
            "0.002492491784505546\n",
            "0.002492621913552284\n",
            "0.002491788938641548\n",
            "0.002490978012792766\n",
            "0.0024903908604756\n",
            "0.0024899365147575737\n"
          ]
        },
        {
          "output_type": "stream",
          "name": "stderr",
          "text": [
            " 81%|████████▏ | 814/1000 [00:14<00:03, 55.42it/s]"
          ]
        },
        {
          "output_type": "stream",
          "name": "stdout",
          "text": [
            "0.0024895059643313287\n",
            "0.0024893042165786026\n",
            "0.002489279257133603\n",
            "0.0024891102453693747\n",
            "0.002489481819793582\n",
            "0.002489794627763331\n",
            "0.002489979052916169\n",
            "0.002490298333577812\n",
            "0.0024906961945816873\n",
            "0.0024910742416977883\n",
            "0.002490902179852128\n",
            "0.0024907193845137955\n"
          ]
        },
        {
          "output_type": "stream",
          "name": "stderr",
          "text": [
            " 83%|████████▎ | 826/1000 [00:14<00:03, 55.50it/s]"
          ]
        },
        {
          "output_type": "stream",
          "name": "stdout",
          "text": [
            "0.00248969248495996\n",
            "0.002488730871118605\n",
            "0.002488284301944077\n",
            "0.0024884229991585017\n",
            "0.002488590031862259\n",
            "0.002489298628643155\n",
            "0.0024904574267566202\n",
            "0.0024916047230362894\n",
            "0.002491897018626332\n",
            "0.002490301453508437\n",
            "0.0024893559515476228\n",
            "0.002488549309782684\n"
          ]
        },
        {
          "output_type": "stream",
          "name": "stderr",
          "text": [
            " 84%|████████▍ | 838/1000 [00:14<00:02, 55.64it/s]"
          ]
        },
        {
          "output_type": "stream",
          "name": "stdout",
          "text": [
            "0.002488230844028294\n",
            "0.0024880787124857305\n",
            "0.0024879570119082928\n",
            "0.002488095290027559\n",
            "0.0024884056299924852\n",
            "0.0024884992744773626\n",
            "0.002489055530168116\n",
            "0.0024892807239666583\n",
            "0.0024890828877687453\n",
            "0.002488835505209863\n",
            "0.0024882813217118383\n",
            "0.0024876702576875688\n"
          ]
        },
        {
          "output_type": "stream",
          "name": "stderr",
          "text": [
            " 85%|████████▌ | 850/1000 [00:14<00:02, 55.83it/s]"
          ]
        },
        {
          "output_type": "stream",
          "name": "stdout",
          "text": [
            "0.002487481408752501\n",
            "0.0024871404515579344\n",
            "0.0024872152134776115\n",
            "0.0024875149363651873\n",
            "0.0024877804331481456\n",
            "0.0024880905635654925\n",
            "0.0024882934289053083\n",
            "0.0024877728195860983\n",
            "0.0024876631563529373\n",
            "0.0024873801972717046\n",
            "0.0024871766567230225\n",
            "0.002486250805668533\n"
          ]
        },
        {
          "output_type": "stream",
          "name": "stderr",
          "text": [
            " 86%|████████▌ | 862/1000 [00:15<00:02, 55.89it/s]"
          ]
        },
        {
          "output_type": "stream",
          "name": "stdout",
          "text": [
            "0.00248644407838583\n",
            "0.002486269688233733\n",
            "0.002486188570037484\n",
            "0.0024865367682650684\n",
            "0.002486528968438506\n",
            "0.002486607083119452\n",
            "0.002487242897041142\n",
            "0.0024870980763807894\n",
            "0.002486844058148563\n",
            "0.0024867276661098003\n",
            "0.002486447896808386\n",
            "0.0024860818171873688\n"
          ]
        },
        {
          "output_type": "stream",
          "name": "stderr",
          "text": [
            "\r 87%|████████▋ | 868/1000 [00:15<00:02, 53.02it/s]"
          ]
        },
        {
          "output_type": "stream",
          "name": "stdout",
          "text": [
            "0.002486136322841048\n",
            "0.0024863948579877614\n",
            "0.0024862681981176137\n",
            "0.0024861157406121494\n",
            "0.0024861770682036875\n",
            "0.0024858068209141493\n",
            "0.002486232062801719\n",
            "0.0024864794220775368\n",
            "0.002486344403587282\n",
            "0.002486180001869798\n",
            "0.0024858616525307298\n"
          ]
        },
        {
          "output_type": "stream",
          "name": "stderr",
          "text": [
            " 88%|████████▊ | 880/1000 [00:15<00:02, 55.19it/s]"
          ]
        },
        {
          "output_type": "stream",
          "name": "stdout",
          "text": [
            "0.0024858083575963973\n",
            "0.0024850619724020363\n",
            "0.002484305901452899\n",
            "0.002484380407258868\n",
            "0.0024844076251611114\n",
            "0.0024850055575370788\n",
            "0.0024859347147867085\n",
            "0.002486250805668533\n",
            "0.0024865317158401013\n",
            "0.002486294973641634\n",
            "0.002485412359237671\n",
            "0.0024847565218806267\n"
          ]
        },
        {
          "output_type": "stream",
          "name": "stderr",
          "text": [
            " 89%|████████▉ | 892/1000 [00:15<00:01, 56.98it/s]"
          ]
        },
        {
          "output_type": "stream",
          "name": "stdout",
          "text": [
            "0.0024840405443683268\n",
            "0.0024834806798025967\n",
            "0.0024833161616697906\n",
            "0.002483076509088278\n",
            "0.0024834679439663886\n",
            "0.002483388362452388\n",
            "0.00248409912455827\n",
            "0.0024845147505402564\n",
            "0.002484541549347341\n",
            "0.002484283992089331\n",
            "0.002484113723039627\n",
            "0.0024840694619342684\n"
          ]
        },
        {
          "output_type": "stream",
          "name": "stderr",
          "text": [
            " 90%|█████████ | 904/1000 [00:15<00:01, 56.62it/s]"
          ]
        },
        {
          "output_type": "stream",
          "name": "stdout",
          "text": [
            "0.002483771974220872\n",
            "0.002483522775582969\n",
            "0.0024834902258589866\n",
            "0.0024830135283991695\n",
            "0.002483284310437739\n",
            "0.002483568782918155\n",
            "0.0024831226095557214\n",
            "0.002484041824936867\n",
            "0.0024837999138981105\n",
            "0.0024845909094437955\n",
            "0.002484013349749148\n",
            "0.0024838792625814675\n"
          ]
        },
        {
          "output_type": "stream",
          "name": "stderr",
          "text": [
            " 92%|█████████▏| 916/1000 [00:16<00:01, 56.22it/s]"
          ]
        },
        {
          "output_type": "stream",
          "name": "stdout",
          "text": [
            "0.0024833583971485495\n",
            "0.0024823211599141358\n",
            "0.0024824065156280996\n",
            "0.002481867512688041\n",
            "0.0024830670561641456\n",
            "0.002483531925827265\n",
            "0.0024839424062520266\n",
            "0.0024835224729031326\n",
            "0.002482554782181978\n",
            "0.0024813453666865824\n",
            "0.00248102773912251\n",
            "0.0024813898373395203\n"
          ]
        },
        {
          "output_type": "stream",
          "name": "stderr",
          "text": [
            " 93%|█████████▎| 928/1000 [00:16<00:01, 55.26it/s]"
          ]
        },
        {
          "output_type": "stream",
          "name": "stdout",
          "text": [
            "0.002481752634048462\n",
            "0.0024818591075018047\n",
            "0.002482651616446674\n",
            "0.0024834386538714172\n",
            "0.00248363777063787\n",
            "0.002483458397909999\n",
            "0.002483211806975305\n",
            "0.0024827411398291588\n",
            "0.0024820099817588924\n",
            "0.0024812715128064156\n",
            "0.0024815741926431656\n",
            "0.002481915056705475\n"
          ]
        },
        {
          "output_type": "stream",
          "name": "stderr",
          "text": [
            " 94%|█████████▍| 940/1000 [00:16<00:01, 56.38it/s]"
          ]
        },
        {
          "output_type": "stream",
          "name": "stdout",
          "text": [
            "0.00248215370811522\n",
            "0.0024825962726026775\n",
            "0.002482799137942493\n",
            "0.0024830711307004096\n",
            "0.0024832661263644697\n",
            "0.002483294461853802\n",
            "0.0024828916182741525\n",
            "0.0024825660046190025\n",
            "0.002482395409606397\n",
            "0.0024820819729939104\n",
            "0.0024816291872411965\n",
            "0.002481291024014354\n"
          ]
        },
        {
          "output_type": "stream",
          "name": "stderr",
          "text": [
            " 95%|█████████▌| 953/1000 [00:16<00:00, 57.77it/s]"
          ]
        },
        {
          "output_type": "stream",
          "name": "stdout",
          "text": [
            "0.002481209486722946\n",
            "0.0024817071622237562\n",
            "0.002482280554249883\n",
            "0.0024820817168802025\n",
            "0.0024826723616570233\n",
            "0.0024834277108311655\n",
            "0.002482995972968638\n",
            "0.002482301602140069\n",
            "0.002482027281075716\n",
            "0.0024818488163873553\n",
            "0.0024805200286209584\n",
            "0.002480066753923893\n"
          ]
        },
        {
          "output_type": "stream",
          "name": "stderr",
          "text": [
            " 96%|█████████▋| 965/1000 [00:17<00:00, 57.55it/s]"
          ]
        },
        {
          "output_type": "stream",
          "name": "stdout",
          "text": [
            "0.0024806063855066897\n",
            "0.0024805197725072505\n",
            "0.0024808184709399937\n",
            "0.002481754473410547\n",
            "0.0024824061896651984\n",
            "0.002482565911486745\n",
            "0.0024822671199217438\n",
            "0.0024817420402541757\n",
            "0.0024809312308207154\n",
            "0.0024800871266052126\n",
            "0.0024798661004751922\n",
            "0.002479534037411213\n"
          ]
        },
        {
          "output_type": "stream",
          "name": "stderr",
          "text": [
            " 98%|█████████▊| 977/1000 [00:17<00:00, 57.31it/s]"
          ]
        },
        {
          "output_type": "stream",
          "name": "stdout",
          "text": [
            "0.0024794678436592223\n",
            "0.0024802572093904018\n",
            "0.002480852883309126\n",
            "0.002481290721334517\n",
            "0.002481692912988365\n",
            "0.0024817857658490537\n",
            "0.002481930935755372\n",
            "0.002481554076075554\n",
            "0.0024812029674649238\n",
            "0.002480683568865061\n",
            "0.0024799910141155125\n",
            "0.0024801344145089386\n"
          ]
        },
        {
          "output_type": "stream",
          "name": "stderr",
          "text": [
            " 99%|█████████▉| 989/1000 [00:17<00:00, 55.33it/s]"
          ]
        },
        {
          "output_type": "stream",
          "name": "stdout",
          "text": [
            "0.002480296837165952\n",
            "0.002480917074717581\n",
            "0.0024805598426610232\n",
            "0.002480728505179286\n",
            "0.002480215742252767\n",
            "0.0024807115318253637\n",
            "0.002480700914748013\n",
            "0.0024803068954497576\n",
            "0.002480407035909593\n",
            "0.002480042283423245\n",
            "0.002479953062720597\n"
          ]
        },
        {
          "output_type": "stream",
          "name": "stderr",
          "text": [
            "100%|██████████| 1000/1000 [00:17<00:00, 56.66it/s]"
          ]
        },
        {
          "output_type": "stream",
          "name": "stdout",
          "text": [
            "0.0024805473396554588\n",
            "0.002480812929570675\n",
            "0.002481001685373485\n",
            "0.002480953512713313\n",
            "0.0024810015922412275\n",
            "0.002480934443883598\n",
            "0.0024806469213217498\n",
            "0.0024803691077977417\n"
          ]
        },
        {
          "output_type": "stream",
          "name": "stderr",
          "text": [
            "\n"
          ]
        },
        {
          "output_type": "display_data",
          "data": {
            "text/plain": [
              "<Figure size 432x288 with 1 Axes>"
            ],
            "image/png": "[encoded data removed]"
          },
          "metadata": {
            "needs_background": "light"
          }
        },
        {
          "output_type": "display_data",
          "data": {
            "text/plain": [
              "<Figure size 432x288 with 1 Axes>"
            ],
            "image/png": "[encoded data removed]"
          },
          "metadata": {
            "needs_background": "light"
          }
        },
        {
          "output_type": "display_data",
          "data": {
            "text/plain": [
              "<Figure size 432x288 with 1 Axes>"
            ],
            "image/png": "[encoded data removed]"
          },
          "metadata": {
            "needs_background": "light"
          }
        },
        {
          "output_type": "display_data",
          "data": {
            "text/plain": [
              "<Figure size 432x288 with 1 Axes>"
            ],
            "image/png": "[encoded data removed]"
          },
          "metadata": {
            "needs_background": "light"
          }
        },
        {
          "output_type": "stream",
          "name": "stdout",
          "text": [
            "Average Number of Steps\n",
            "Through Predictor:3.8576\n",
            "Through Binary Search:4.868\n"
          ]
        }
      ]
    },
    {
      "cell_type": "markdown",
      "source": [
        "#Mixed"
      ],
      "metadata": {
        "id": "ymmstiZqctl9"
      }
    },
    {
      "cell_type": "code",
      "source": [
        "net=Net_NHL()\n",
        "net.to('cuda')\n",
        "\n",
        "train_unif,train_ans1=generate_dataset(17000,n,_type='uniform')\n",
        "cv_unif,cv_ans1=generate_dataset(1700,n,_type='uniform')\n",
        "\n",
        "train_normal,train_ans2=generate_dataset(17000,n,_type='normal')\n",
        "cv_normal,cv_ans2=generate_dataset(1700,n,_type='normal')\n",
        "\n",
        "train_exponential,train_ans3=generate_dataset(16000,n,_type='exponential')\n",
        "cv_exponential,cv_ans3=generate_dataset(1600,n,_type='exponential')\n",
        "\n",
        "train_input=torch.cat((train_unif,train_normal,train_exponential))\n",
        "train_ans=torch.cat((train_ans1,train_ans2,train_ans3))\n",
        "cv_input=torch.cat((cv_unif,cv_normal,cv_exponential))\n",
        "cv_ans=torch.cat((cv_ans1,cv_ans2,cv_ans3))\n",
        "\n",
        "shuffled_idx=torch.randperm(train_input.shape[0])\n",
        "train_input=train_input[shuffled_idx]\n",
        "train_ans=train_ans[shuffled_idx]\n",
        "\n",
        "shuffled_idx1=torch.randperm(cv_input.shape[0])\n",
        "cv_input=cv_input[shuffled_idx1]\n",
        "cv_ans=cv_ans[shuffled_idx1]\n",
        "\n",
        "train_dataset(net,train_input,train_ans,cv_input,cv_ans,training_examples,epochs=50)\n",
        "test_single_array(net,n,'exponential')\n",
        "test_single_array(net,n,'normal')\n",
        "test_single_array(net,n,'uniform')\n",
        "\n",
        "np.random.seed(42)\n",
        "test_unif,test_ans1=generate_dataset(1700,n,_type='uniform')\n",
        "test_normal,test_ans2=generate_dataset(1700,n,_type='normal')\n",
        "test_exponential,test_ans3=generate_dataset(1600,n,_type='exponential')\n",
        "\n",
        "test_input=torch.cat((test_unif,test_normal,test_exponential))\n",
        "\n",
        "shuffled_idx=torch.randperm(test_input.shape[0])\n",
        "test_input=test_input[shuffled_idx]\n",
        "\n",
        "out=predict(net,test_input,n)\n",
        "predictions_cnt,bs_cnt=get_predictions(test_input,n,testing_examples,out)\n",
        "d1,d2=generate_plots(predictions_cnt,bs_cnt)\n",
        "average_steps(d1,d2)\n",
        "\n",
        "\n"
      ],
      "metadata": {
        "colab": {
          "base_uri": "https://localhost:8080/",
          "height": 1000
        },
        "id": "06ZNpbonaLhd",
        "outputId": "d46a81d1-f34e-4abe-abb1-e83a88d7a60e"
      },
      "execution_count": 50,
      "outputs": [
        {
          "output_type": "stream",
          "name": "stderr",
          "text": [
            "\r  0%|          | 0/50 [00:00<?, ?it/s]"
          ]
        },
        {
          "output_type": "stream",
          "name": "stdout",
          "text": [
            "0.09438211023807526\n",
            "0.06944884210824967\n"
          ]
        },
        {
          "output_type": "stream",
          "name": "stderr",
          "text": [
            " 24%|██▍       | 12/50 [00:00<00:01, 33.98it/s]"
          ]
        },
        {
          "output_type": "stream",
          "name": "stdout",
          "text": [
            "0.05592910535633564\n",
            "0.04596764147281647\n",
            "0.03776748701930046\n",
            "0.03133420329540968\n",
            "0.026234839297831058\n",
            "0.022155789099633692\n",
            "0.018944153934717177\n",
            "0.016453853342682123\n",
            "0.014556549023836851\n",
            "0.013137398194521666\n",
            "0.012094043847173452\n",
            "0.011339389812201261\n",
            "0.010802362393587828\n",
            "0.010425707791000605\n",
            "0.010164455510675907\n",
            "0.009984875470399857\n",
            "0.009861696977168322\n"
          ]
        },
        {
          "output_type": "stream",
          "name": "stderr",
          "text": [
            " 60%|██████    | 30/50 [00:00<00:00, 59.95it/s]"
          ]
        },
        {
          "output_type": "stream",
          "name": "stdout",
          "text": [
            "0.009776855446398258\n",
            "0.009717738255858421\n",
            "0.00967567777261138\n",
            "0.009644899051636457\n",
            "0.009621658828109503\n",
            "0.009603578317910432\n",
            "0.009589155018329621\n",
            "0.00957741802558303\n",
            "0.00956767974421382\n",
            "0.009559365082532167\n",
            "0.009551917668431997\n",
            "0.009544784761965274\n",
            "0.009537452552467584\n",
            "0.009529486205428839\n",
            "0.009520543459802865\n",
            "0.00951048731803894\n",
            "0.009499660693109035\n",
            "0.009489072859287262\n",
            "0.009479972068220377\n"
          ]
        },
        {
          "output_type": "stream",
          "name": "stderr",
          "text": [
            "100%|██████████| 50/50 [00:00<00:00, 56.57it/s]"
          ]
        },
        {
          "output_type": "stream",
          "name": "stdout",
          "text": [
            "0.00947296228259802\n",
            "0.009467622824013233\n",
            "0.009463043510913849\n",
            "0.009458646364510059\n",
            "0.009454477857798339\n",
            "0.009450751170516015\n",
            "0.009447409678250552\n",
            "0.009444306697696447\n",
            "0.00944144669920206\n",
            "0.009438843373209238\n",
            "0.009436447825282811\n",
            "0.00943424878641963\n"
          ]
        },
        {
          "output_type": "stream",
          "name": "stderr",
          "text": [
            "\n"
          ]
        },
        {
          "output_type": "display_data",
          "data": {
            "text/plain": [
              "<Figure size 432x288 with 1 Axes>"
            ],
            "image/png": "[encoded data removed]"
          },
          "metadata": {
            "needs_background": "light"
          }
        },
        {
          "output_type": "display_data",
          "data": {
            "text/plain": [
              "<Figure size 432x288 with 1 Axes>"
            ],
            "image/png": "[encoded data removed]"
          },
          "metadata": {
            "needs_background": "light"
          }
        },
        {
          "output_type": "display_data",
          "data": {
            "text/plain": [
              "<Figure size 432x288 with 1 Axes>"
            ],
            "image/png": "[encoded data removed]"
          },
          "metadata": {
            "needs_background": "light"
          }
        },
        {
          "output_type": "display_data",
          "data": {
            "text/plain": [
              "<Figure size 432x288 with 1 Axes>"
            ],
            "image/png": "[encoded data removed]"
          },
          "metadata": {
            "needs_background": "light"
          }
        },
        {
          "output_type": "display_data",
          "data": {
            "text/plain": [
              "<Figure size 432x288 with 1 Axes>"
            ],
            "image/png": "[encoded data removed]"
          },
          "metadata": {
            "needs_background": "light"
          }
        },
        {
          "output_type": "display_data",
          "data": {
            "text/plain": [
              "<Figure size 432x288 with 1 Axes>"
            ],
            "image/png": "[encoded data removed]"
          },
          "metadata": {
            "needs_background": "light"
          }
        },
        {
          "output_type": "display_data",
          "data": {
            "text/plain": [
              "<Figure size 432x288 with 1 Axes>"
            ],
            "image/png": "[encoded data removed]"
          },
          "metadata": {
            "needs_background": "light"
          }
        },
        {
          "output_type": "display_data",
          "data": {
            "text/plain": [
              "<Figure size 432x288 with 1 Axes>"
            ],
            "image/png": "[encoded data removed]"
          },
          "metadata": {
            "needs_background": "light"
          }
        },
        {
          "output_type": "stream",
          "name": "stdout",
          "text": [
            "Average Number of Steps\n",
            "Through Predictor:4.7108\n",
            "Through Binary Search:4.8692\n"
          ]
        }
      ]
    },
    {
      "cell_type": "code",
      "source": [
        "net_1=Net_1HL()\n",
        "net_1.to('cuda')\n",
        "\n",
        "train_unif,train_ans1=generate_dataset(17000,n,_type='uniform')\n",
        "cv_unif,cv_ans1=generate_dataset(1700,n,_type='uniform')\n",
        "\n",
        "train_normal,train_ans2=generate_dataset(17000,n,_type='normal')\n",
        "cv_normal,cv_ans2=generate_dataset(1700,n,_type='normal')\n",
        "\n",
        "train_exponential,train_ans3=generate_dataset(16000,n,_type='exponential')\n",
        "cv_exponential,cv_ans3=generate_dataset(1600,n,_type='exponential')\n",
        "\n",
        "train_input=torch.cat((train_unif,train_normal,train_exponential))\n",
        "train_ans=torch.cat((train_ans1,train_ans2,train_ans3))\n",
        "cv_input=torch.cat((cv_unif,cv_normal,cv_exponential))\n",
        "cv_ans=torch.cat((cv_ans1,cv_ans2,cv_ans3))\n",
        "\n",
        "shuffled_idx=torch.randperm(train_input.shape[0])\n",
        "train_input=train_input[shuffled_idx]\n",
        "train_ans=train_ans[shuffled_idx]\n",
        "\n",
        "shuffled_idx1=torch.randperm(cv_input.shape[0])\n",
        "cv_input=cv_input[shuffled_idx1]\n",
        "cv_ans=cv_ans[shuffled_idx1]\n",
        "\n",
        "train_dataset(net_1,train_input,train_ans,cv_input,cv_ans,training_examples,epochs=50)\n",
        "test_single_array(net_1,n,'exponential')\n",
        "test_single_array(net_1,n,'normal')\n",
        "test_single_array(net_1,n,'uniform')\n",
        "\n",
        "np.random.seed(42)\n",
        "test_unif,test_ans1=generate_dataset(1700,n,_type='uniform')\n",
        "test_normal,test_ans2=generate_dataset(1700,n,_type='normal')\n",
        "test_exponential,test_ans3=generate_dataset(1600,n,_type='exponential')\n",
        "\n",
        "test_input=torch.cat((test_unif,test_normal,test_exponential))\n",
        "\n",
        "shuffled_idx=torch.randperm(test_input.shape[0])\n",
        "test_input=test_input[shuffled_idx]\n",
        "\n",
        "out=predict(net_1,test_input,n)\n",
        "predictions_cnt,bs_cnt=get_predictions(test_input,n,testing_examples,out)\n",
        "d1,d2=generate_plots(predictions_cnt,bs_cnt)\n",
        "average_steps(d1,d2)\n"
      ],
      "metadata": {
        "colab": {
          "base_uri": "https://localhost:8080/",
          "height": 1000
        },
        "id": "SYYbLjaInna9",
        "outputId": "eb1165dd-5382-4dc3-efe8-886f99805e0f"
      },
      "execution_count": 51,
      "outputs": [
        {
          "output_type": "stream",
          "name": "stderr",
          "text": [
            " 14%|█▍        | 7/50 [00:00<00:00, 60.86it/s]"
          ]
        },
        {
          "output_type": "stream",
          "name": "stdout",
          "text": [
            "0.13946643546223642\n",
            "0.08585509732365608\n",
            "0.07343574315309524\n",
            "0.062093048542737964\n",
            "0.050163283571600915\n",
            "0.037979424744844434\n",
            "0.025955956429243088\n",
            "0.016618095431476833\n",
            "0.011754103470593691\n",
            "0.009968296438455582\n",
            "0.009604571294039488\n",
            "0.009497269708663224\n",
            "0.00937650203704834\n"
          ]
        },
        {
          "output_type": "stream",
          "name": "stderr",
          "text": [
            " 40%|████      | 20/50 [00:00<00:00, 58.47it/s]"
          ]
        },
        {
          "output_type": "stream",
          "name": "stdout",
          "text": [
            "0.009276834595948458\n",
            "0.009200151916593314\n",
            "0.009138303250074387\n",
            "0.0090861601755023\n",
            "0.009039268177002669\n",
            "0.008997742924839259\n",
            "0.008962259627878666\n",
            "0.008931509964168072\n",
            "0.008903825655579567\n",
            "0.008879152219742536\n",
            "0.008857612498104572\n",
            "0.008837791997939349\n"
          ]
        },
        {
          "output_type": "stream",
          "name": "stderr",
          "text": [
            " 64%|██████▍   | 32/50 [00:00<00:00, 57.00it/s]"
          ]
        },
        {
          "output_type": "stream",
          "name": "stdout",
          "text": [
            "0.008820493798702955\n",
            "0.008804843947291374\n",
            "0.008790863491594792\n",
            "0.008778487052768468\n",
            "0.008767370786517858\n",
            "0.008757424168288707\n",
            "0.008748857025057077\n",
            "0.008741600438952446\n",
            "0.008735362533479929\n",
            "0.00873060328885913\n",
            "0.008727966621518136\n",
            "0.008726860117167234\n"
          ]
        },
        {
          "output_type": "stream",
          "name": "stderr",
          "text": [
            "100%|██████████| 50/50 [00:00<00:00, 57.99it/s]"
          ]
        },
        {
          "output_type": "stream",
          "name": "stdout",
          "text": [
            "0.008727111481130123\n",
            "0.008728826232254506\n",
            "0.008731849584728479\n",
            "0.00873614326119423\n",
            "0.008739606384187937\n",
            "0.008740130346268415\n",
            "0.008736331481486559\n",
            "0.008728293888270854\n",
            "0.008717300929129123\n",
            "0.008704578690230846\n",
            "0.008692361135035753\n",
            "0.008682174142450094\n",
            "0.008675313461571932\n"
          ]
        },
        {
          "output_type": "stream",
          "name": "stderr",
          "text": [
            "\n"
          ]
        },
        {
          "output_type": "display_data",
          "data": {
            "text/plain": [
              "<Figure size 432x288 with 1 Axes>"
            ],
            "image/png": "[encoded data removed]"
          },
          "metadata": {
            "needs_background": "light"
          }
        },
        {
          "output_type": "display_data",
          "data": {
            "text/plain": [
              "<Figure size 432x288 with 1 Axes>"
            ],
            "image/png": "[encoded data removed]"
          },
          "metadata": {
            "needs_background": "light"
          }
        },
        {
          "output_type": "display_data",
          "data": {
            "text/plain": [
              "<Figure size 432x288 with 1 Axes>"
            ],
            "image/png": "[encoded data removed]"
          },
          "metadata": {
            "needs_background": "light"
          }
        },
        {
          "output_type": "display_data",
          "data": {
            "text/plain": [
              "<Figure size 432x288 with 1 Axes>"
            ],
            "image/png": "[encoded data removed]"
          },
          "metadata": {
            "needs_background": "light"
          }
        },
        {
          "output_type": "display_data",
          "data": {
            "text/plain": [
              "<Figure size 432x288 with 1 Axes>"
            ],
            "image/png": "[encoded data removed]"
          },
          "metadata": {
            "needs_background": "light"
          }
        },
        {
          "output_type": "display_data",
          "data": {
            "text/plain": [
              "<Figure size 432x288 with 1 Axes>"
            ],
            "image/png": "[encoded data removed]"
          },
          "metadata": {
            "needs_background": "light"
          }
        },
        {
          "output_type": "display_data",
          "data": {
            "text/plain": [
              "<Figure size 432x288 with 1 Axes>"
            ],
            "image/png": "[encoded data removed]"
          },
          "metadata": {
            "needs_background": "light"
          }
        },
        {
          "output_type": "display_data",
          "data": {
            "text/plain": [
              "<Figure size 432x288 with 1 Axes>"
            ],
            "image/png": "[encoded data removed]"
          },
          "metadata": {
            "needs_background": "light"
          }
        },
        {
          "output_type": "stream",
          "name": "stdout",
          "text": [
            "Average Number of Steps\n",
            "Through Predictor:4.4896\n",
            "Through Binary Search:4.8692\n"
          ]
        }
      ]
    }
  ]
}